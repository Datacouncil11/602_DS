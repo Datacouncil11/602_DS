{
 "cells": [
  {
   "cell_type": "code",
   "execution_count": 1,
   "id": "dde23aa5",
   "metadata": {},
   "outputs": [],
   "source": [
    "names = ['Vivek', 'Chetan','mohit','Pooja']"
   ]
  },
  {
   "cell_type": "code",
   "execution_count": 3,
   "id": "ad850e57",
   "metadata": {},
   "outputs": [
    {
     "name": "stdout",
     "output_type": "stream",
     "text": [
      "Vivek\n",
      "Chetan\n",
      "mohit\n",
      "Pooja\n"
     ]
    }
   ],
   "source": [
    "for i in names:\n",
    "    print(i)"
   ]
  },
  {
   "cell_type": "code",
   "execution_count": 5,
   "id": "699c4272",
   "metadata": {},
   "outputs": [
    {
     "name": "stdout",
     "output_type": "stream",
     "text": [
      "V\n",
      "i\n",
      "v\n",
      "e\n",
      "k\n",
      "C\n",
      "h\n",
      "e\n",
      "t\n",
      "a\n",
      "n\n",
      "m\n",
      "o\n",
      "h\n",
      "i\n",
      "t\n",
      "P\n",
      "o\n",
      "o\n",
      "j\n",
      "a\n"
     ]
    },
    {
     "data": {
      "text/plain": [
       "['V',\n",
       " 'i',\n",
       " 'v',\n",
       " 'e',\n",
       " 'k',\n",
       " 'C',\n",
       " 'h',\n",
       " 'e',\n",
       " 't',\n",
       " 'a',\n",
       " 'n',\n",
       " 'm',\n",
       " 'o',\n",
       " 'h',\n",
       " 'i',\n",
       " 't',\n",
       " 'P',\n",
       " 'o',\n",
       " 'o',\n",
       " 'j',\n",
       " 'a']"
      ]
     },
     "execution_count": 5,
     "metadata": {},
     "output_type": "execute_result"
    }
   ],
   "source": [
    "k = []\n",
    "for i in names:\n",
    "    for words in i:\n",
    "        print(words)\n",
    "        k.append(words)\n",
    "k"
   ]
  },
  {
   "cell_type": "code",
   "execution_count": 6,
   "id": "50fbdecc",
   "metadata": {},
   "outputs": [],
   "source": [
    "# Star pattern"
   ]
  },
  {
   "cell_type": "code",
   "execution_count": 7,
   "id": "8b0b5bf1",
   "metadata": {},
   "outputs": [
    {
     "name": "stdout",
     "output_type": "stream",
     "text": [
      " * \n",
      " *  * \n",
      " *  *  * \n",
      " *  *  *  * \n",
      " *  *  *  *  * \n"
     ]
    }
   ],
   "source": [
    "for i in range(5):\n",
    "    print(\" * \" * (i + 1))"
   ]
  },
  {
   "cell_type": "code",
   "execution_count": 8,
   "id": "a940c168",
   "metadata": {},
   "outputs": [
    {
     "name": "stdout",
     "output_type": "stream",
     "text": [
      "*****\n",
      "****\n",
      "***\n",
      "**\n",
      "*\n"
     ]
    }
   ],
   "source": [
    "for i in range(5, 0 , -1):\n",
    "    print('*' * i)"
   ]
  },
  {
   "cell_type": "code",
   "execution_count": 9,
   "id": "98953fdf",
   "metadata": {},
   "outputs": [],
   "source": [
    "# While True"
   ]
  },
  {
   "cell_type": "code",
   "execution_count": 10,
   "id": "29eb5dc3",
   "metadata": {},
   "outputs": [
    {
     "name": "stdout",
     "output_type": "stream",
     "text": [
      "Enter Exit to end yes\n",
      "Write a proper exit button yyou written yes\n",
      "Enter Exit to end no\n",
      "Write a proper exit button yyou written no\n",
      "Enter Exit to end EXIT\n",
      "Exited the loop\n"
     ]
    }
   ],
   "source": [
    "while True :\n",
    "    user_input = input('Enter Exit to end ')\n",
    "    if user_input.lower() == 'exit':\n",
    "        print('Exited the loop')\n",
    "        break\n",
    "    else:\n",
    "        print('Write a proper exit button yyou written', user_input)"
   ]
  },
  {
   "cell_type": "code",
   "execution_count": 11,
   "id": "48a31364",
   "metadata": {},
   "outputs": [
    {
     "name": "stdout",
     "output_type": "stream",
     "text": [
      "Enter Exit to end yes\n",
      "Write a proper exit button yyou written yes\n",
      "Enter Exit to end no\n",
      "Write a proper exit button yyou written no\n",
      "Enter Exit to end exit\n",
      "Exited the loop\n"
     ]
    },
    {
     "ename": "KeyboardInterrupt",
     "evalue": "Interrupted by user",
     "output_type": "error",
     "traceback": [
      "\u001b[1;31m---------------------------------------------------------------------------\u001b[0m",
      "\u001b[1;31mKeyboardInterrupt\u001b[0m                         Traceback (most recent call last)",
      "Cell \u001b[1;32mIn[11], line 2\u001b[0m\n\u001b[0;32m      1\u001b[0m \u001b[38;5;28;01mwhile\u001b[39;00m \u001b[38;5;28;01mTrue\u001b[39;00m :\n\u001b[1;32m----> 2\u001b[0m     user_input \u001b[38;5;241m=\u001b[39m \u001b[38;5;28minput\u001b[39m(\u001b[38;5;124m'\u001b[39m\u001b[38;5;124mEnter Exit to end \u001b[39m\u001b[38;5;124m'\u001b[39m)\n\u001b[0;32m      3\u001b[0m     \u001b[38;5;28;01mif\u001b[39;00m user_input\u001b[38;5;241m.\u001b[39mlower() \u001b[38;5;241m==\u001b[39m \u001b[38;5;124m'\u001b[39m\u001b[38;5;124mexit\u001b[39m\u001b[38;5;124m'\u001b[39m:\n\u001b[0;32m      4\u001b[0m         \u001b[38;5;28mprint\u001b[39m(\u001b[38;5;124m'\u001b[39m\u001b[38;5;124mExited the loop\u001b[39m\u001b[38;5;124m'\u001b[39m)\n",
      "File \u001b[1;32m~\\anaconda3\\Lib\\site-packages\\ipykernel\\kernelbase.py:1202\u001b[0m, in \u001b[0;36mKernel.raw_input\u001b[1;34m(self, prompt)\u001b[0m\n\u001b[0;32m   1200\u001b[0m     msg \u001b[38;5;241m=\u001b[39m \u001b[38;5;124m\"\u001b[39m\u001b[38;5;124mraw_input was called, but this frontend does not support input requests.\u001b[39m\u001b[38;5;124m\"\u001b[39m\n\u001b[0;32m   1201\u001b[0m     \u001b[38;5;28;01mraise\u001b[39;00m StdinNotImplementedError(msg)\n\u001b[1;32m-> 1202\u001b[0m \u001b[38;5;28;01mreturn\u001b[39;00m \u001b[38;5;28mself\u001b[39m\u001b[38;5;241m.\u001b[39m_input_request(\n\u001b[0;32m   1203\u001b[0m     \u001b[38;5;28mstr\u001b[39m(prompt),\n\u001b[0;32m   1204\u001b[0m     \u001b[38;5;28mself\u001b[39m\u001b[38;5;241m.\u001b[39m_parent_ident[\u001b[38;5;124m\"\u001b[39m\u001b[38;5;124mshell\u001b[39m\u001b[38;5;124m\"\u001b[39m],\n\u001b[0;32m   1205\u001b[0m     \u001b[38;5;28mself\u001b[39m\u001b[38;5;241m.\u001b[39mget_parent(\u001b[38;5;124m\"\u001b[39m\u001b[38;5;124mshell\u001b[39m\u001b[38;5;124m\"\u001b[39m),\n\u001b[0;32m   1206\u001b[0m     password\u001b[38;5;241m=\u001b[39m\u001b[38;5;28;01mFalse\u001b[39;00m,\n\u001b[0;32m   1207\u001b[0m )\n",
      "File \u001b[1;32m~\\anaconda3\\Lib\\site-packages\\ipykernel\\kernelbase.py:1245\u001b[0m, in \u001b[0;36mKernel._input_request\u001b[1;34m(self, prompt, ident, parent, password)\u001b[0m\n\u001b[0;32m   1242\u001b[0m \u001b[38;5;28;01mexcept\u001b[39;00m \u001b[38;5;167;01mKeyboardInterrupt\u001b[39;00m:\n\u001b[0;32m   1243\u001b[0m     \u001b[38;5;66;03m# re-raise KeyboardInterrupt, to truncate traceback\u001b[39;00m\n\u001b[0;32m   1244\u001b[0m     msg \u001b[38;5;241m=\u001b[39m \u001b[38;5;124m\"\u001b[39m\u001b[38;5;124mInterrupted by user\u001b[39m\u001b[38;5;124m\"\u001b[39m\n\u001b[1;32m-> 1245\u001b[0m     \u001b[38;5;28;01mraise\u001b[39;00m \u001b[38;5;167;01mKeyboardInterrupt\u001b[39;00m(msg) \u001b[38;5;28;01mfrom\u001b[39;00m \u001b[38;5;28;01mNone\u001b[39;00m\n\u001b[0;32m   1246\u001b[0m \u001b[38;5;28;01mexcept\u001b[39;00m \u001b[38;5;167;01mException\u001b[39;00m:\n\u001b[0;32m   1247\u001b[0m     \u001b[38;5;28mself\u001b[39m\u001b[38;5;241m.\u001b[39mlog\u001b[38;5;241m.\u001b[39mwarning(\u001b[38;5;124m\"\u001b[39m\u001b[38;5;124mInvalid Message:\u001b[39m\u001b[38;5;124m\"\u001b[39m, exc_info\u001b[38;5;241m=\u001b[39m\u001b[38;5;28;01mTrue\u001b[39;00m)\n",
      "\u001b[1;31mKeyboardInterrupt\u001b[0m: Interrupted by user"
     ]
    }
   ],
   "source": [
    "while True :\n",
    "    user_input = input('Enter Exit to end ')\n",
    "    if user_input.lower() == 'exit':\n",
    "        print('Exited the loop')\n",
    "        \n",
    "    else:\n",
    "        print('Write a proper exit button yyou written', user_input)"
   ]
  },
  {
   "cell_type": "code",
   "execution_count": 12,
   "id": "e02b7b97",
   "metadata": {},
   "outputs": [
    {
     "name": "stdout",
     "output_type": "stream",
     "text": [
      "1. Bhel\n",
      "2. Panipuri\n",
      "3. Pav Bhaji\n",
      "4. Exit\n",
      "Enter your dish number2\n",
      "Your order of Panipuri is completed\n",
      "1. Bhel\n",
      "2. Panipuri\n",
      "3. Pav Bhaji\n",
      "4. Exit\n",
      "Enter your dish number4\n",
      "Exiting the order Thank you\n"
     ]
    }
   ],
   "source": [
    "while True:\n",
    "    print('1. Bhel')\n",
    "    print('2. Panipuri')\n",
    "    print('3. Pav Bhaji')\n",
    "    print('4. Exit')\n",
    "    \n",
    "    choice = input('Enter your dish number')\n",
    "    \n",
    "    if choice == '1':\n",
    "        print('Your order of Bhel is completed')\n",
    "        \n",
    "    elif choice == '2':\n",
    "        print('Your order of Panipuri is completed')\n",
    "        \n",
    "    elif choice == '3':\n",
    "        print('Your order of Pav Bhaji is completed')\n",
    "        \n",
    "    elif choice == '4':\n",
    "        print('Exiting the order Thank you')\n",
    "        break\n",
    "        \n",
    "    else:\n",
    "        print('Plese select valid number')"
   ]
  },
  {
   "cell_type": "code",
   "execution_count": null,
   "id": "0e43469c",
   "metadata": {},
   "outputs": [],
   "source": []
  }
 ],
 "metadata": {
  "kernelspec": {
   "display_name": "Python 3 (ipykernel)",
   "language": "python",
   "name": "python3"
  },
  "language_info": {
   "codemirror_mode": {
    "name": "ipython",
    "version": 3
   },
   "file_extension": ".py",
   "mimetype": "text/x-python",
   "name": "python",
   "nbconvert_exporter": "python",
   "pygments_lexer": "ipython3",
   "version": "3.11.5"
  }
 },
 "nbformat": 4,
 "nbformat_minor": 5
}
