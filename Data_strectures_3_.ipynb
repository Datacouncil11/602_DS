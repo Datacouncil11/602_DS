{
 "cells": [
  {
   "cell_type": "code",
   "execution_count": 1,
   "id": "9d4b31a9",
   "metadata": {},
   "outputs": [],
   "source": [
    "number = [1,2,3,4,5]"
   ]
  },
  {
   "cell_type": "code",
   "execution_count": 2,
   "id": "7e1fd390",
   "metadata": {},
   "outputs": [
    {
     "data": {
      "text/plain": [
       "list"
      ]
     },
     "execution_count": 2,
     "metadata": {},
     "output_type": "execute_result"
    }
   ],
   "source": [
    "type(number)"
   ]
  },
  {
   "cell_type": "code",
   "execution_count": 3,
   "id": "e1378b26",
   "metadata": {},
   "outputs": [
    {
     "data": {
      "text/plain": [
       "True"
      ]
     },
     "execution_count": 3,
     "metadata": {},
     "output_type": "execute_result"
    }
   ],
   "source": [
    "3 in number"
   ]
  },
  {
   "cell_type": "code",
   "execution_count": 4,
   "id": "12f25521",
   "metadata": {},
   "outputs": [
    {
     "data": {
      "text/plain": [
       "False"
      ]
     },
     "execution_count": 4,
     "metadata": {},
     "output_type": "execute_result"
    }
   ],
   "source": [
    "10 in number"
   ]
  },
  {
   "cell_type": "code",
   "execution_count": 5,
   "id": "7e1e9b1f",
   "metadata": {},
   "outputs": [],
   "source": [
    "number[1] = 9"
   ]
  },
  {
   "cell_type": "code",
   "execution_count": 6,
   "id": "fc28dcb7",
   "metadata": {},
   "outputs": [
    {
     "data": {
      "text/plain": [
       "[1, 9, 3, 4, 5]"
      ]
     },
     "execution_count": 6,
     "metadata": {},
     "output_type": "execute_result"
    }
   ],
   "source": [
    "number"
   ]
  },
  {
   "cell_type": "code",
   "execution_count": 7,
   "id": "a1673f9a",
   "metadata": {},
   "outputs": [],
   "source": [
    "# Removing elements"
   ]
  },
  {
   "cell_type": "code",
   "execution_count": 8,
   "id": "385eaf75",
   "metadata": {},
   "outputs": [],
   "source": [
    "number.remove(9)"
   ]
  },
  {
   "cell_type": "code",
   "execution_count": 9,
   "id": "3b6d2e5c",
   "metadata": {},
   "outputs": [
    {
     "data": {
      "text/plain": [
       "[1, 3, 4, 5]"
      ]
     },
     "execution_count": 9,
     "metadata": {},
     "output_type": "execute_result"
    }
   ],
   "source": [
    "number"
   ]
  },
  {
   "cell_type": "code",
   "execution_count": 10,
   "id": "652fff79",
   "metadata": {},
   "outputs": [],
   "source": [
    "number.remove(5)"
   ]
  },
  {
   "cell_type": "code",
   "execution_count": 11,
   "id": "612296a4",
   "metadata": {},
   "outputs": [
    {
     "data": {
      "text/plain": [
       "[1, 3, 4]"
      ]
     },
     "execution_count": 11,
     "metadata": {},
     "output_type": "execute_result"
    }
   ],
   "source": [
    "number"
   ]
  },
  {
   "cell_type": "code",
   "execution_count": 12,
   "id": "6790f951",
   "metadata": {},
   "outputs": [],
   "source": [
    "t = ['OM', 'Sham', 'Ram','Ritesh']"
   ]
  },
  {
   "cell_type": "code",
   "execution_count": 13,
   "id": "7ef7b798",
   "metadata": {},
   "outputs": [],
   "source": [
    "t.remove('Sham')"
   ]
  },
  {
   "cell_type": "code",
   "execution_count": 14,
   "id": "d5b0e571",
   "metadata": {},
   "outputs": [
    {
     "data": {
      "text/plain": [
       "['OM', 'Ram', 'Ritesh']"
      ]
     },
     "execution_count": 14,
     "metadata": {},
     "output_type": "execute_result"
    }
   ],
   "source": [
    "t"
   ]
  },
  {
   "cell_type": "code",
   "execution_count": 15,
   "id": "d5d20050",
   "metadata": {},
   "outputs": [],
   "source": [
    "# Pop # Pop removes last element of list"
   ]
  },
  {
   "cell_type": "code",
   "execution_count": 16,
   "id": "fd85c6fa",
   "metadata": {},
   "outputs": [
    {
     "data": {
      "text/plain": [
       "4"
      ]
     },
     "execution_count": 16,
     "metadata": {},
     "output_type": "execute_result"
    }
   ],
   "source": [
    "number.pop()"
   ]
  },
  {
   "cell_type": "code",
   "execution_count": 17,
   "id": "35deb757",
   "metadata": {},
   "outputs": [
    {
     "data": {
      "text/plain": [
       "[1, 3]"
      ]
     },
     "execution_count": 17,
     "metadata": {},
     "output_type": "execute_result"
    }
   ],
   "source": [
    "number"
   ]
  },
  {
   "cell_type": "code",
   "execution_count": 18,
   "id": "f768ac5f",
   "metadata": {},
   "outputs": [
    {
     "data": {
      "text/plain": [
       "'Ritesh'"
      ]
     },
     "execution_count": 18,
     "metadata": {},
     "output_type": "execute_result"
    }
   ],
   "source": [
    "t.pop()"
   ]
  },
  {
   "cell_type": "code",
   "execution_count": 19,
   "id": "7c64b8e6",
   "metadata": {},
   "outputs": [],
   "source": [
    "p = [2,4,6,8,10,12,14,16]"
   ]
  },
  {
   "cell_type": "code",
   "execution_count": 20,
   "id": "17d94598",
   "metadata": {},
   "outputs": [],
   "source": [
    "p.remove(10)"
   ]
  },
  {
   "cell_type": "code",
   "execution_count": 21,
   "id": "721c912c",
   "metadata": {},
   "outputs": [
    {
     "data": {
      "text/plain": [
       "16"
      ]
     },
     "execution_count": 21,
     "metadata": {},
     "output_type": "execute_result"
    }
   ],
   "source": [
    "p.pop()"
   ]
  },
  {
   "cell_type": "code",
   "execution_count": 22,
   "id": "5106755f",
   "metadata": {},
   "outputs": [
    {
     "data": {
      "text/plain": [
       "[2, 4, 6, 8, 12, 14]"
      ]
     },
     "execution_count": 22,
     "metadata": {},
     "output_type": "execute_result"
    }
   ],
   "source": [
    "p"
   ]
  },
  {
   "cell_type": "code",
   "execution_count": 23,
   "id": "5831b1e9",
   "metadata": {},
   "outputs": [],
   "source": [
    "# Sort data"
   ]
  },
  {
   "cell_type": "code",
   "execution_count": 24,
   "id": "8aaa10b3",
   "metadata": {},
   "outputs": [],
   "source": [
    "f = [8,4,6,2,8,7,0]"
   ]
  },
  {
   "cell_type": "code",
   "execution_count": 25,
   "id": "acb866b8",
   "metadata": {},
   "outputs": [],
   "source": [
    "f.sort()"
   ]
  },
  {
   "cell_type": "code",
   "execution_count": 26,
   "id": "b3d464df",
   "metadata": {},
   "outputs": [
    {
     "data": {
      "text/plain": [
       "[0, 2, 4, 6, 7, 8, 8]"
      ]
     },
     "execution_count": 26,
     "metadata": {},
     "output_type": "execute_result"
    }
   ],
   "source": [
    "f"
   ]
  },
  {
   "cell_type": "code",
   "execution_count": 27,
   "id": "3c1b497f",
   "metadata": {},
   "outputs": [
    {
     "data": {
      "text/plain": [
       "[0, 2, 4, 6, 7, 8, 8]"
      ]
     },
     "execution_count": 27,
     "metadata": {},
     "output_type": "execute_result"
    }
   ],
   "source": [
    "f"
   ]
  },
  {
   "cell_type": "code",
   "execution_count": 28,
   "id": "bdd2916f",
   "metadata": {},
   "outputs": [
    {
     "data": {
      "text/plain": [
       "[8, 8, 7, 6, 4, 2, 0]"
      ]
     },
     "execution_count": 28,
     "metadata": {},
     "output_type": "execute_result"
    }
   ],
   "source": [
    "f[::-1]"
   ]
  },
  {
   "cell_type": "code",
   "execution_count": 29,
   "id": "c75f507a",
   "metadata": {},
   "outputs": [],
   "source": [
    "f.reverse()"
   ]
  },
  {
   "cell_type": "code",
   "execution_count": 30,
   "id": "392edc7d",
   "metadata": {},
   "outputs": [
    {
     "data": {
      "text/plain": [
       "[8, 8, 7, 6, 4, 2, 0]"
      ]
     },
     "execution_count": 30,
     "metadata": {},
     "output_type": "execute_result"
    }
   ],
   "source": [
    "f"
   ]
  },
  {
   "cell_type": "code",
   "execution_count": 31,
   "id": "fce5572a",
   "metadata": {},
   "outputs": [],
   "source": [
    "# Append\n",
    "# Extend\n",
    "# Insert\n",
    "# Remove\n",
    "# sort\n",
    "# reverse"
   ]
  },
  {
   "cell_type": "markdown",
   "id": "ea4537c1",
   "metadata": {},
   "source": [
    "# Tuple -->()"
   ]
  },
  {
   "cell_type": "markdown",
   "id": "e904eaed",
   "metadata": {},
   "source": [
    "A tuple is in built data type used to store an ordered and immutable sqeuence of elements "
   ]
  },
  {
   "cell_type": "code",
   "execution_count": 32,
   "id": "3befe896",
   "metadata": {},
   "outputs": [],
   "source": [
    "emp_tuple = ()"
   ]
  },
  {
   "cell_type": "code",
   "execution_count": 33,
   "id": "2f31645a",
   "metadata": {},
   "outputs": [
    {
     "data": {
      "text/plain": [
       "()"
      ]
     },
     "execution_count": 33,
     "metadata": {},
     "output_type": "execute_result"
    }
   ],
   "source": [
    "emp_tuple"
   ]
  },
  {
   "cell_type": "code",
   "execution_count": 34,
   "id": "31b42dde",
   "metadata": {},
   "outputs": [],
   "source": [
    "num_tuple = (1,2,3,4,5)"
   ]
  },
  {
   "cell_type": "code",
   "execution_count": 35,
   "id": "8f079a1c",
   "metadata": {},
   "outputs": [
    {
     "data": {
      "text/plain": [
       "(1, 2, 3, 4, 5)"
      ]
     },
     "execution_count": 35,
     "metadata": {},
     "output_type": "execute_result"
    }
   ],
   "source": [
    "num_tuple"
   ]
  },
  {
   "cell_type": "code",
   "execution_count": 36,
   "id": "9de44275",
   "metadata": {},
   "outputs": [],
   "source": [
    "nam_tuple = ('Apple', 'banana', 'orange', 'mango')"
   ]
  },
  {
   "cell_type": "code",
   "execution_count": 37,
   "id": "f405ca6d",
   "metadata": {},
   "outputs": [
    {
     "data": {
      "text/plain": [
       "('Apple', 'banana', 'orange', 'mango')"
      ]
     },
     "execution_count": 37,
     "metadata": {},
     "output_type": "execute_result"
    }
   ],
   "source": [
    "nam_tuple"
   ]
  },
  {
   "cell_type": "code",
   "execution_count": 38,
   "id": "f1d71033",
   "metadata": {},
   "outputs": [],
   "source": [
    "mix_data = (10, 'Banana', 5.4)"
   ]
  },
  {
   "cell_type": "code",
   "execution_count": 39,
   "id": "7d92393f",
   "metadata": {},
   "outputs": [
    {
     "data": {
      "text/plain": [
       "(10, 'Banana', 5.4)"
      ]
     },
     "execution_count": 39,
     "metadata": {},
     "output_type": "execute_result"
    }
   ],
   "source": [
    "mix_data"
   ]
  },
  {
   "cell_type": "code",
   "execution_count": 41,
   "id": "fc4d2248",
   "metadata": {},
   "outputs": [
    {
     "data": {
      "text/plain": [
       "(10, 'Banana', 5.4)"
      ]
     },
     "execution_count": 41,
     "metadata": {},
     "output_type": "execute_result"
    }
   ],
   "source": [
    "mix_data"
   ]
  },
  {
   "cell_type": "code",
   "execution_count": 43,
   "id": "fb339651",
   "metadata": {},
   "outputs": [
    {
     "data": {
      "text/plain": [
       "1"
      ]
     },
     "execution_count": 43,
     "metadata": {},
     "output_type": "execute_result"
    }
   ],
   "source": [
    "mix_data.count(10)"
   ]
  },
  {
   "cell_type": "code",
   "execution_count": 44,
   "id": "8cb78076",
   "metadata": {},
   "outputs": [],
   "source": [
    "d = (1,2,2,2,2,4,5,5,5,5,6,6,6,7,7,8,9,9)"
   ]
  },
  {
   "cell_type": "code",
   "execution_count": 45,
   "id": "b0e29426",
   "metadata": {},
   "outputs": [
    {
     "data": {
      "text/plain": [
       "4"
      ]
     },
     "execution_count": 45,
     "metadata": {},
     "output_type": "execute_result"
    }
   ],
   "source": [
    "d.count(2)"
   ]
  },
  {
   "cell_type": "code",
   "execution_count": 46,
   "id": "82e45661",
   "metadata": {},
   "outputs": [
    {
     "data": {
      "text/plain": [
       "3"
      ]
     },
     "execution_count": 46,
     "metadata": {},
     "output_type": "execute_result"
    }
   ],
   "source": [
    "d.count(6)"
   ]
  },
  {
   "cell_type": "code",
   "execution_count": 47,
   "id": "46b12f2a",
   "metadata": {},
   "outputs": [
    {
     "data": {
      "text/plain": [
       "3"
      ]
     },
     "execution_count": 47,
     "metadata": {},
     "output_type": "execute_result"
    }
   ],
   "source": [
    "len(mix_data)"
   ]
  },
  {
   "cell_type": "code",
   "execution_count": 48,
   "id": "67df4f16",
   "metadata": {},
   "outputs": [
    {
     "data": {
      "text/plain": [
       "18"
      ]
     },
     "execution_count": 48,
     "metadata": {},
     "output_type": "execute_result"
    }
   ],
   "source": [
    "len(d)"
   ]
  },
  {
   "cell_type": "code",
   "execution_count": 49,
   "id": "210552cb",
   "metadata": {},
   "outputs": [
    {
     "data": {
      "text/plain": [
       "16"
      ]
     },
     "execution_count": 49,
     "metadata": {},
     "output_type": "execute_result"
    }
   ],
   "source": [
    "d.index(9)"
   ]
  },
  {
   "cell_type": "code",
   "execution_count": 50,
   "id": "9ac587b7",
   "metadata": {},
   "outputs": [
    {
     "data": {
      "text/plain": [
       "1"
      ]
     },
     "execution_count": 50,
     "metadata": {},
     "output_type": "execute_result"
    }
   ],
   "source": [
    "mix_data.index('Banana')"
   ]
  },
  {
   "cell_type": "code",
   "execution_count": 51,
   "id": "0902c691",
   "metadata": {},
   "outputs": [
    {
     "data": {
      "text/plain": [
       "(10, 'Banana', 5.4, 10, 'Banana', 5.4)"
      ]
     },
     "execution_count": 51,
     "metadata": {},
     "output_type": "execute_result"
    }
   ],
   "source": [
    "mix_data * 2"
   ]
  },
  {
   "cell_type": "code",
   "execution_count": 52,
   "id": "70f3d157",
   "metadata": {},
   "outputs": [
    {
     "data": {
      "text/plain": [
       "True"
      ]
     },
     "execution_count": 52,
     "metadata": {},
     "output_type": "execute_result"
    }
   ],
   "source": [
    "'Banana' in mix_data"
   ]
  },
  {
   "cell_type": "code",
   "execution_count": 53,
   "id": "5fd2a188",
   "metadata": {},
   "outputs": [
    {
     "data": {
      "text/plain": [
       "(1, 2, 2, 2, 2, 4, 5, 5, 5, 5, 6, 6, 6, 7, 7, 8, 9, 9)"
      ]
     },
     "execution_count": 53,
     "metadata": {},
     "output_type": "execute_result"
    }
   ],
   "source": [
    "d"
   ]
  },
  {
   "cell_type": "code",
   "execution_count": 54,
   "id": "9ab8c6b2",
   "metadata": {},
   "outputs": [
    {
     "data": {
      "text/plain": [
       "(1, 2, 2, 2, 2, 4, 5, 5, 5, 5, 6, 6, 6, 7, 7, 8, 9, 9)"
      ]
     },
     "execution_count": 54,
     "metadata": {},
     "output_type": "execute_result"
    }
   ],
   "source": [
    "d[:]"
   ]
  },
  {
   "cell_type": "code",
   "execution_count": 55,
   "id": "75ae4746",
   "metadata": {},
   "outputs": [
    {
     "data": {
      "text/plain": [
       "(1, 2, 2, 5, 5, 6, 6, 7, 9)"
      ]
     },
     "execution_count": 55,
     "metadata": {},
     "output_type": "execute_result"
    }
   ],
   "source": [
    "d[::2]"
   ]
  },
  {
   "cell_type": "markdown",
   "id": "32668b4f",
   "metadata": {},
   "source": [
    "List is defined by square bracket []\n",
    "Tuple is defined by curly paranthesis ()\n",
    "\n",
    "List is mutable , can changable, add, remove\n",
    "Tuple is immutable., we cant remove, change or add elements in tuple\n",
    "\n",
    "List can consume more memory.\n",
    "Tuple consume less memory compare to List."
   ]
  },
  {
   "cell_type": "code",
   "execution_count": null,
   "id": "7514e324",
   "metadata": {},
   "outputs": [],
   "source": []
  }
 ],
 "metadata": {
  "kernelspec": {
   "display_name": "Python 3 (ipykernel)",
   "language": "python",
   "name": "python3"
  },
  "language_info": {
   "codemirror_mode": {
    "name": "ipython",
    "version": 3
   },
   "file_extension": ".py",
   "mimetype": "text/x-python",
   "name": "python",
   "nbconvert_exporter": "python",
   "pygments_lexer": "ipython3",
   "version": "3.11.5"
  }
 },
 "nbformat": 4,
 "nbformat_minor": 5
}
