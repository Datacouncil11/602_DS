{
 "cells": [
  {
   "cell_type": "code",
   "execution_count": 1,
   "id": "5ab9c8cf",
   "metadata": {},
   "outputs": [],
   "source": [
    "#List"
   ]
  },
  {
   "cell_type": "code",
   "execution_count": 2,
   "id": "a34f48ef",
   "metadata": {},
   "outputs": [],
   "source": [
    "p = [2,4,6,8,10,12,14,16]"
   ]
  },
  {
   "cell_type": "code",
   "execution_count": 3,
   "id": "9e8d63f8",
   "metadata": {},
   "outputs": [
    {
     "data": {
      "text/plain": [
       "list"
      ]
     },
     "execution_count": 3,
     "metadata": {},
     "output_type": "execute_result"
    }
   ],
   "source": [
    "type(p)"
   ]
  },
  {
   "cell_type": "code",
   "execution_count": 4,
   "id": "32e5d7e3",
   "metadata": {},
   "outputs": [
    {
     "data": {
      "text/plain": [
       "int"
      ]
     },
     "execution_count": 4,
     "metadata": {},
     "output_type": "execute_result"
    }
   ],
   "source": [
    "type(2)"
   ]
  },
  {
   "cell_type": "code",
   "execution_count": 5,
   "id": "fd929514",
   "metadata": {},
   "outputs": [
    {
     "data": {
      "text/plain": [
       "float"
      ]
     },
     "execution_count": 5,
     "metadata": {},
     "output_type": "execute_result"
    }
   ],
   "source": [
    "type(12.5)"
   ]
  },
  {
   "cell_type": "code",
   "execution_count": 6,
   "id": "854592f4",
   "metadata": {},
   "outputs": [
    {
     "data": {
      "text/plain": [
       "bool"
      ]
     },
     "execution_count": 6,
     "metadata": {},
     "output_type": "execute_result"
    }
   ],
   "source": [
    "type(True)"
   ]
  },
  {
   "cell_type": "code",
   "execution_count": 7,
   "id": "bf49a48a",
   "metadata": {},
   "outputs": [
    {
     "data": {
      "text/plain": [
       "[2, 4, 6, 8, 10, 12, 14, 16]"
      ]
     },
     "execution_count": 7,
     "metadata": {},
     "output_type": "execute_result"
    }
   ],
   "source": [
    "p"
   ]
  },
  {
   "cell_type": "code",
   "execution_count": 8,
   "id": "4021ad8c",
   "metadata": {},
   "outputs": [
    {
     "data": {
      "text/plain": [
       "[2, 4, 6, 8, 10, 12]"
      ]
     },
     "execution_count": 8,
     "metadata": {},
     "output_type": "execute_result"
    }
   ],
   "source": [
    "p[0:6]"
   ]
  },
  {
   "cell_type": "code",
   "execution_count": 9,
   "id": "23131c04",
   "metadata": {},
   "outputs": [
    {
     "data": {
      "text/plain": [
       "[2, 4, 6, 8, 10, 12, 14, 16]"
      ]
     },
     "execution_count": 9,
     "metadata": {},
     "output_type": "execute_result"
    }
   ],
   "source": [
    "p[0:12]"
   ]
  },
  {
   "cell_type": "code",
   "execution_count": 10,
   "id": "52788407",
   "metadata": {},
   "outputs": [
    {
     "data": {
      "text/plain": [
       "[2, 6, 10, 14]"
      ]
     },
     "execution_count": 10,
     "metadata": {},
     "output_type": "execute_result"
    }
   ],
   "source": [
    "p[0::2]"
   ]
  },
  {
   "cell_type": "code",
   "execution_count": 11,
   "id": "335c3147",
   "metadata": {},
   "outputs": [],
   "source": [
    "#Append"
   ]
  },
  {
   "cell_type": "code",
   "execution_count": 12,
   "id": "e085b7d5",
   "metadata": {},
   "outputs": [
    {
     "data": {
      "text/plain": [
       "[2, 4, 6, 8, 10, 12, 14, 16]"
      ]
     },
     "execution_count": 12,
     "metadata": {},
     "output_type": "execute_result"
    }
   ],
   "source": [
    "p"
   ]
  },
  {
   "cell_type": "code",
   "execution_count": 13,
   "id": "ca6b0b9c",
   "metadata": {},
   "outputs": [],
   "source": [
    "p.append(18)"
   ]
  },
  {
   "cell_type": "code",
   "execution_count": 14,
   "id": "7c313a1b",
   "metadata": {},
   "outputs": [
    {
     "data": {
      "text/plain": [
       "[2, 4, 6, 8, 10, 12, 14, 16, 18]"
      ]
     },
     "execution_count": 14,
     "metadata": {},
     "output_type": "execute_result"
    }
   ],
   "source": [
    "p"
   ]
  },
  {
   "cell_type": "code",
   "execution_count": 15,
   "id": "4e64e463",
   "metadata": {},
   "outputs": [],
   "source": [
    "p.append(20)"
   ]
  },
  {
   "cell_type": "code",
   "execution_count": 16,
   "id": "b4b87faa",
   "metadata": {},
   "outputs": [
    {
     "data": {
      "text/plain": [
       "[2, 4, 6, 8, 10, 12, 14, 16, 18, 20]"
      ]
     },
     "execution_count": 16,
     "metadata": {},
     "output_type": "execute_result"
    }
   ],
   "source": [
    "p"
   ]
  },
  {
   "cell_type": "code",
   "execution_count": 17,
   "id": "566d3905",
   "metadata": {},
   "outputs": [],
   "source": [
    "d = []  #empty list"
   ]
  },
  {
   "cell_type": "code",
   "execution_count": 18,
   "id": "13f091a4",
   "metadata": {},
   "outputs": [],
   "source": [
    "d.append('Science')"
   ]
  },
  {
   "cell_type": "code",
   "execution_count": 19,
   "id": "bb2faad1",
   "metadata": {},
   "outputs": [
    {
     "data": {
      "text/plain": [
       "['Science']"
      ]
     },
     "execution_count": 19,
     "metadata": {},
     "output_type": "execute_result"
    }
   ],
   "source": [
    "d"
   ]
  },
  {
   "cell_type": "code",
   "execution_count": 20,
   "id": "f32af1c3",
   "metadata": {},
   "outputs": [],
   "source": [
    "d.append('Data')"
   ]
  },
  {
   "cell_type": "code",
   "execution_count": 21,
   "id": "240b3ae2",
   "metadata": {},
   "outputs": [
    {
     "data": {
      "text/plain": [
       "['Science', 'Data']"
      ]
     },
     "execution_count": 21,
     "metadata": {},
     "output_type": "execute_result"
    }
   ],
   "source": [
    "d"
   ]
  },
  {
   "cell_type": "code",
   "execution_count": 22,
   "id": "a81c040c",
   "metadata": {},
   "outputs": [],
   "source": [
    "d.append(10+5j)"
   ]
  },
  {
   "cell_type": "code",
   "execution_count": 23,
   "id": "714befcd",
   "metadata": {},
   "outputs": [
    {
     "data": {
      "text/plain": [
       "['Science', 'Data', (10+5j)]"
      ]
     },
     "execution_count": 23,
     "metadata": {},
     "output_type": "execute_result"
    }
   ],
   "source": [
    "d"
   ]
  },
  {
   "cell_type": "code",
   "execution_count": 24,
   "id": "5f560fea",
   "metadata": {},
   "outputs": [],
   "source": [
    "d.append(10.5)"
   ]
  },
  {
   "cell_type": "code",
   "execution_count": 25,
   "id": "d2a18e52",
   "metadata": {},
   "outputs": [
    {
     "data": {
      "text/plain": [
       "['Science', 'Data', (10+5j), 10.5]"
      ]
     },
     "execution_count": 25,
     "metadata": {},
     "output_type": "execute_result"
    }
   ],
   "source": [
    "d"
   ]
  },
  {
   "cell_type": "code",
   "execution_count": 26,
   "id": "eb72b595",
   "metadata": {},
   "outputs": [],
   "source": [
    "d.append(False)"
   ]
  },
  {
   "cell_type": "code",
   "execution_count": 27,
   "id": "65e14be0",
   "metadata": {},
   "outputs": [
    {
     "data": {
      "text/plain": [
       "['Science', 'Data', (10+5j), 10.5, False]"
      ]
     },
     "execution_count": 27,
     "metadata": {},
     "output_type": "execute_result"
    }
   ],
   "source": [
    "d"
   ]
  },
  {
   "cell_type": "code",
   "execution_count": 28,
   "id": "f82ce892",
   "metadata": {},
   "outputs": [
    {
     "data": {
      "text/plain": [
       "list"
      ]
     },
     "execution_count": 28,
     "metadata": {},
     "output_type": "execute_result"
    }
   ],
   "source": [
    "type(d)"
   ]
  },
  {
   "cell_type": "code",
   "execution_count": 29,
   "id": "744b70ee",
   "metadata": {},
   "outputs": [
    {
     "data": {
      "text/plain": [
       "[2, 4, 6, 8, 10, 12, 14, 16, 18, 20]"
      ]
     },
     "execution_count": 29,
     "metadata": {},
     "output_type": "execute_result"
    }
   ],
   "source": [
    "p"
   ]
  },
  {
   "cell_type": "code",
   "execution_count": 30,
   "id": "20bd3c4a",
   "metadata": {},
   "outputs": [
    {
     "data": {
      "text/plain": [
       "['Science', 'Data', (10+5j), 10.5, False]"
      ]
     },
     "execution_count": 30,
     "metadata": {},
     "output_type": "execute_result"
    }
   ],
   "source": [
    "d"
   ]
  },
  {
   "cell_type": "code",
   "execution_count": 31,
   "id": "a7a9376c",
   "metadata": {
    "scrolled": true
   },
   "outputs": [
    {
     "data": {
      "text/plain": [
       "[2, 4, 6, 8, 10, 12, 14, 16, 18, 20, 'Science', 'Data', (10+5j), 10.5, False]"
      ]
     },
     "execution_count": 31,
     "metadata": {},
     "output_type": "execute_result"
    }
   ],
   "source": [
    "p + d"
   ]
  },
  {
   "cell_type": "code",
   "execution_count": 32,
   "id": "23226f1b",
   "metadata": {},
   "outputs": [],
   "source": [
    "data = p + d"
   ]
  },
  {
   "cell_type": "code",
   "execution_count": 33,
   "id": "62dc1376",
   "metadata": {},
   "outputs": [
    {
     "data": {
      "text/plain": [
       "[2, 4, 6, 8, 10, 12, 14, 16, 18, 20, 'Science', 'Data', (10+5j), 10.5, False]"
      ]
     },
     "execution_count": 33,
     "metadata": {},
     "output_type": "execute_result"
    }
   ],
   "source": [
    "data"
   ]
  },
  {
   "cell_type": "code",
   "execution_count": 34,
   "id": "cfd5909b",
   "metadata": {},
   "outputs": [],
   "source": [
    "# Length"
   ]
  },
  {
   "cell_type": "code",
   "execution_count": 35,
   "id": "89df5004",
   "metadata": {},
   "outputs": [
    {
     "data": {
      "text/plain": [
       "10"
      ]
     },
     "execution_count": 35,
     "metadata": {},
     "output_type": "execute_result"
    }
   ],
   "source": [
    "len(p)"
   ]
  },
  {
   "cell_type": "code",
   "execution_count": 36,
   "id": "36091d09",
   "metadata": {},
   "outputs": [
    {
     "data": {
      "text/plain": [
       "7"
      ]
     },
     "execution_count": 36,
     "metadata": {},
     "output_type": "execute_result"
    }
   ],
   "source": [
    "len('Science')"
   ]
  },
  {
   "cell_type": "code",
   "execution_count": 38,
   "id": "c8867d17",
   "metadata": {},
   "outputs": [
    {
     "data": {
      "text/plain": [
       "2"
      ]
     },
     "execution_count": 38,
     "metadata": {},
     "output_type": "execute_result"
    }
   ],
   "source": [
    "len([10,15])"
   ]
  },
  {
   "cell_type": "code",
   "execution_count": 40,
   "id": "8f231608",
   "metadata": {},
   "outputs": [
    {
     "data": {
      "text/plain": [
       "3"
      ]
     },
     "execution_count": 40,
     "metadata": {},
     "output_type": "execute_result"
    }
   ],
   "source": [
    "len('Car')"
   ]
  },
  {
   "cell_type": "code",
   "execution_count": 41,
   "id": "26a6d0e0",
   "metadata": {},
   "outputs": [
    {
     "data": {
      "text/plain": [
       "15"
      ]
     },
     "execution_count": 41,
     "metadata": {},
     "output_type": "execute_result"
    }
   ],
   "source": [
    "len(data)"
   ]
  },
  {
   "cell_type": "code",
   "execution_count": 42,
   "id": "4902c33e",
   "metadata": {},
   "outputs": [
    {
     "data": {
      "text/plain": [
       "['Science', 'Data', (10+5j), 10.5, False]"
      ]
     },
     "execution_count": 42,
     "metadata": {},
     "output_type": "execute_result"
    }
   ],
   "source": [
    "d"
   ]
  },
  {
   "cell_type": "code",
   "execution_count": 43,
   "id": "23f49146",
   "metadata": {},
   "outputs": [
    {
     "data": {
      "text/plain": [
       "[2, 4, 6, 8, 10, 12, 14, 16, 18, 20]"
      ]
     },
     "execution_count": 43,
     "metadata": {},
     "output_type": "execute_result"
    }
   ],
   "source": [
    "p"
   ]
  },
  {
   "cell_type": "code",
   "execution_count": 44,
   "id": "872e9fc9",
   "metadata": {},
   "outputs": [
    {
     "data": {
      "text/plain": [
       "[2, 4, 6, 8, 10, 12, 14, 16, 18, 20, 2, 4, 6, 8, 10, 12, 14, 16, 18, 20]"
      ]
     },
     "execution_count": 44,
     "metadata": {},
     "output_type": "execute_result"
    }
   ],
   "source": [
    "p * 2"
   ]
  },
  {
   "cell_type": "code",
   "execution_count": 45,
   "id": "3dda4295",
   "metadata": {},
   "outputs": [],
   "source": [
    "names = ['OM', 'Sham', 'Ram','Ritesh']"
   ]
  },
  {
   "cell_type": "code",
   "execution_count": 46,
   "id": "a656724a",
   "metadata": {},
   "outputs": [
    {
     "data": {
      "text/plain": [
       "['OM', 'Sham', 'Ram', 'Ritesh']"
      ]
     },
     "execution_count": 46,
     "metadata": {},
     "output_type": "execute_result"
    }
   ],
   "source": [
    "names"
   ]
  },
  {
   "cell_type": "code",
   "execution_count": 47,
   "id": "fa73b337",
   "metadata": {},
   "outputs": [],
   "source": [
    "t = ['OM', 'Sham', 'Ram','Ritesh']"
   ]
  },
  {
   "cell_type": "code",
   "execution_count": 48,
   "id": "54b44131",
   "metadata": {},
   "outputs": [
    {
     "data": {
      "text/plain": [
       "True"
      ]
     },
     "execution_count": 48,
     "metadata": {},
     "output_type": "execute_result"
    }
   ],
   "source": [
    "'Ritesh' in t"
   ]
  },
  {
   "cell_type": "code",
   "execution_count": 49,
   "id": "b76bbbeb",
   "metadata": {},
   "outputs": [
    {
     "data": {
      "text/plain": [
       "False"
      ]
     },
     "execution_count": 49,
     "metadata": {},
     "output_type": "execute_result"
    }
   ],
   "source": [
    "'Atharv' in t"
   ]
  },
  {
   "cell_type": "code",
   "execution_count": 50,
   "id": "3bda3e2b",
   "metadata": {},
   "outputs": [],
   "source": [
    "#extend"
   ]
  },
  {
   "cell_type": "code",
   "execution_count": 51,
   "id": "fc4313f6",
   "metadata": {},
   "outputs": [
    {
     "data": {
      "text/plain": [
       "['OM', 'Sham', 'Ram', 'Ritesh']"
      ]
     },
     "execution_count": 51,
     "metadata": {},
     "output_type": "execute_result"
    }
   ],
   "source": [
    "t"
   ]
  },
  {
   "cell_type": "code",
   "execution_count": 53,
   "id": "48d75c6f",
   "metadata": {},
   "outputs": [],
   "source": [
    "t.extend([10,15])"
   ]
  },
  {
   "cell_type": "code",
   "execution_count": 54,
   "id": "72206600",
   "metadata": {},
   "outputs": [
    {
     "data": {
      "text/plain": [
       "['OM', 'Sham', 'Ram', 'Ritesh', 10, 15]"
      ]
     },
     "execution_count": 54,
     "metadata": {},
     "output_type": "execute_result"
    }
   ],
   "source": [
    "t"
   ]
  },
  {
   "cell_type": "code",
   "execution_count": 58,
   "id": "85d32d8d",
   "metadata": {},
   "outputs": [],
   "source": [
    "t.extend('Ramesh')"
   ]
  },
  {
   "cell_type": "code",
   "execution_count": 59,
   "id": "84cecd08",
   "metadata": {},
   "outputs": [
    {
     "data": {
      "text/plain": [
       "['OM',\n",
       " 'Sham',\n",
       " 'Ram',\n",
       " 'Ritesh',\n",
       " 10,\n",
       " 15,\n",
       " 'R',\n",
       " 'a',\n",
       " 'm',\n",
       " 'e',\n",
       " 's',\n",
       " 'h',\n",
       " 'R',\n",
       " 'a',\n",
       " 'm',\n",
       " 'e',\n",
       " 's',\n",
       " 'h',\n",
       " 'R',\n",
       " 'a',\n",
       " 'm',\n",
       " 'e',\n",
       " 's',\n",
       " 'h']"
      ]
     },
     "execution_count": 59,
     "metadata": {},
     "output_type": "execute_result"
    }
   ],
   "source": [
    "t"
   ]
  },
  {
   "cell_type": "code",
   "execution_count": 60,
   "id": "253ef8ec",
   "metadata": {},
   "outputs": [],
   "source": [
    "t.extend([11,12])"
   ]
  },
  {
   "cell_type": "code",
   "execution_count": 61,
   "id": "29ae9a8d",
   "metadata": {},
   "outputs": [
    {
     "data": {
      "text/plain": [
       "['OM',\n",
       " 'Sham',\n",
       " 'Ram',\n",
       " 'Ritesh',\n",
       " 10,\n",
       " 15,\n",
       " 'R',\n",
       " 'a',\n",
       " 'm',\n",
       " 'e',\n",
       " 's',\n",
       " 'h',\n",
       " 'R',\n",
       " 'a',\n",
       " 'm',\n",
       " 'e',\n",
       " 's',\n",
       " 'h',\n",
       " 'R',\n",
       " 'a',\n",
       " 'm',\n",
       " 'e',\n",
       " 's',\n",
       " 'h',\n",
       " 11,\n",
       " 12]"
      ]
     },
     "execution_count": 61,
     "metadata": {},
     "output_type": "execute_result"
    }
   ],
   "source": [
    "t"
   ]
  },
  {
   "cell_type": "code",
   "execution_count": null,
   "id": "219efa4c",
   "metadata": {},
   "outputs": [],
   "source": []
  },
  {
   "cell_type": "code",
   "execution_count": 63,
   "id": "7f56e33f",
   "metadata": {},
   "outputs": [
    {
     "data": {
      "text/plain": [
       "['OM', 'Sham', 'Ram', 'Ritesh']"
      ]
     },
     "execution_count": 63,
     "metadata": {},
     "output_type": "execute_result"
    }
   ],
   "source": [
    "names"
   ]
  },
  {
   "cell_type": "code",
   "execution_count": 64,
   "id": "9e87cb9f",
   "metadata": {},
   "outputs": [],
   "source": [
    "names[1] = 'Teerth'"
   ]
  },
  {
   "cell_type": "code",
   "execution_count": 65,
   "id": "ec0a6796",
   "metadata": {},
   "outputs": [
    {
     "data": {
      "text/plain": [
       "['OM', 'Teerth', 'Ram', 'Ritesh']"
      ]
     },
     "execution_count": 65,
     "metadata": {},
     "output_type": "execute_result"
    }
   ],
   "source": [
    "names"
   ]
  },
  {
   "cell_type": "code",
   "execution_count": 66,
   "id": "9e8c50e1",
   "metadata": {},
   "outputs": [],
   "source": [
    "names[0] = 'Rahul'"
   ]
  },
  {
   "cell_type": "code",
   "execution_count": 67,
   "id": "8f88cff0",
   "metadata": {},
   "outputs": [
    {
     "data": {
      "text/plain": [
       "['Rahul', 'Teerth', 'Ram', 'Ritesh']"
      ]
     },
     "execution_count": 67,
     "metadata": {},
     "output_type": "execute_result"
    }
   ],
   "source": [
    "names"
   ]
  },
  {
   "cell_type": "code",
   "execution_count": 68,
   "id": "b63c530a",
   "metadata": {},
   "outputs": [],
   "source": [
    "#Insert"
   ]
  },
  {
   "cell_type": "code",
   "execution_count": 69,
   "id": "987e2cf5",
   "metadata": {},
   "outputs": [
    {
     "data": {
      "text/plain": [
       "['Rahul', 'Teerth', 'Ram', 'Ritesh']"
      ]
     },
     "execution_count": 69,
     "metadata": {},
     "output_type": "execute_result"
    }
   ],
   "source": [
    "names"
   ]
  },
  {
   "cell_type": "code",
   "execution_count": 70,
   "id": "5de7dd85",
   "metadata": {},
   "outputs": [],
   "source": [
    "names.insert(1, 10)"
   ]
  },
  {
   "cell_type": "code",
   "execution_count": 71,
   "id": "2e5ecce0",
   "metadata": {},
   "outputs": [
    {
     "data": {
      "text/plain": [
       "['Rahul', 10, 'Teerth', 'Ram', 'Ritesh']"
      ]
     },
     "execution_count": 71,
     "metadata": {},
     "output_type": "execute_result"
    }
   ],
   "source": [
    "names"
   ]
  },
  {
   "cell_type": "code",
   "execution_count": null,
   "id": "74b252f3",
   "metadata": {},
   "outputs": [],
   "source": []
  }
 ],
 "metadata": {
  "kernelspec": {
   "display_name": "Python 3 (ipykernel)",
   "language": "python",
   "name": "python3"
  },
  "language_info": {
   "codemirror_mode": {
    "name": "ipython",
    "version": 3
   },
   "file_extension": ".py",
   "mimetype": "text/x-python",
   "name": "python",
   "nbconvert_exporter": "python",
   "pygments_lexer": "ipython3",
   "version": "3.11.5"
  }
 },
 "nbformat": 4,
 "nbformat_minor": 5
}
