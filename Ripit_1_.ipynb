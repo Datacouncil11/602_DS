{
 "cells": [
  {
   "cell_type": "markdown",
   "id": "286b9df6",
   "metadata": {},
   "source": [
    "# Data Types in python"
   ]
  },
  {
   "cell_type": "markdown",
   "id": "12cd4110",
   "metadata": {},
   "source": [
    "int Complete Number"
   ]
  },
  {
   "cell_type": "code",
   "execution_count": 1,
   "id": "d7c2a562",
   "metadata": {},
   "outputs": [
    {
     "data": {
      "text/plain": [
       "5"
      ]
     },
     "execution_count": 1,
     "metadata": {},
     "output_type": "execute_result"
    }
   ],
   "source": [
    "5"
   ]
  },
  {
   "cell_type": "code",
   "execution_count": 2,
   "id": "6c9dfb67",
   "metadata": {},
   "outputs": [
    {
     "data": {
      "text/plain": [
       "int"
      ]
     },
     "execution_count": 2,
     "metadata": {},
     "output_type": "execute_result"
    }
   ],
   "source": [
    "type(5)"
   ]
  },
  {
   "cell_type": "code",
   "execution_count": 3,
   "id": "e393df64",
   "metadata": {},
   "outputs": [],
   "source": [
    "#Float\n",
    "#Nums in decimal"
   ]
  },
  {
   "cell_type": "code",
   "execution_count": 4,
   "id": "0d4b35a4",
   "metadata": {},
   "outputs": [
    {
     "data": {
      "text/plain": [
       "5.5"
      ]
     },
     "execution_count": 4,
     "metadata": {},
     "output_type": "execute_result"
    }
   ],
   "source": [
    "5.5"
   ]
  },
  {
   "cell_type": "code",
   "execution_count": 5,
   "id": "c9fda7db",
   "metadata": {},
   "outputs": [
    {
     "data": {
      "text/plain": [
       "float"
      ]
     },
     "execution_count": 5,
     "metadata": {},
     "output_type": "execute_result"
    }
   ],
   "source": [
    "type(5.5)"
   ]
  },
  {
   "cell_type": "code",
   "execution_count": 6,
   "id": "a946b306",
   "metadata": {},
   "outputs": [],
   "source": [
    "# Complex --> Vectors"
   ]
  },
  {
   "cell_type": "code",
   "execution_count": 7,
   "id": "9b5eb641",
   "metadata": {},
   "outputs": [
    {
     "data": {
      "text/plain": [
       "(10+7j)"
      ]
     },
     "execution_count": 7,
     "metadata": {},
     "output_type": "execute_result"
    }
   ],
   "source": [
    "10 + 7j"
   ]
  },
  {
   "cell_type": "code",
   "execution_count": 8,
   "id": "90c3f0f5",
   "metadata": {},
   "outputs": [
    {
     "data": {
      "text/plain": [
       "complex"
      ]
     },
     "execution_count": 8,
     "metadata": {},
     "output_type": "execute_result"
    }
   ],
   "source": [
    "type(10+7j)"
   ]
  },
  {
   "cell_type": "code",
   "execution_count": 12,
   "id": "5050c928",
   "metadata": {},
   "outputs": [],
   "source": [
    "# String --> Words, Sentences . '' / \"\""
   ]
  },
  {
   "cell_type": "code",
   "execution_count": 11,
   "id": "5e857f77",
   "metadata": {},
   "outputs": [
    {
     "data": {
      "text/plain": [
       "'Data'"
      ]
     },
     "execution_count": 11,
     "metadata": {},
     "output_type": "execute_result"
    }
   ],
   "source": [
    "'Data'"
   ]
  },
  {
   "cell_type": "code",
   "execution_count": 13,
   "id": "8399bdbf",
   "metadata": {},
   "outputs": [
    {
     "data": {
      "text/plain": [
       "str"
      ]
     },
     "execution_count": 13,
     "metadata": {},
     "output_type": "execute_result"
    }
   ],
   "source": [
    "type('Data')"
   ]
  },
  {
   "cell_type": "code",
   "execution_count": 14,
   "id": "f24560e6",
   "metadata": {},
   "outputs": [],
   "source": [
    "# Boolean -> True false / Yes/ no"
   ]
  },
  {
   "cell_type": "code",
   "execution_count": 15,
   "id": "baff8c25",
   "metadata": {},
   "outputs": [],
   "source": [
    "a = 'Data'"
   ]
  },
  {
   "cell_type": "code",
   "execution_count": 16,
   "id": "1a5b3b5f",
   "metadata": {},
   "outputs": [
    {
     "data": {
      "text/plain": [
       "True"
      ]
     },
     "execution_count": 16,
     "metadata": {},
     "output_type": "execute_result"
    }
   ],
   "source": [
    "a == 'Data' #?"
   ]
  },
  {
   "cell_type": "code",
   "execution_count": 17,
   "id": "d36aa074",
   "metadata": {},
   "outputs": [
    {
     "data": {
      "text/plain": [
       "False"
      ]
     },
     "execution_count": 17,
     "metadata": {},
     "output_type": "execute_result"
    }
   ],
   "source": [
    "a == 'Science'"
   ]
  },
  {
   "cell_type": "code",
   "execution_count": 18,
   "id": "653decc3",
   "metadata": {},
   "outputs": [
    {
     "data": {
      "text/plain": [
       "2"
      ]
     },
     "execution_count": 18,
     "metadata": {},
     "output_type": "execute_result"
    }
   ],
   "source": [
    "True +  True"
   ]
  },
  {
   "cell_type": "code",
   "execution_count": 19,
   "id": "6467daa4",
   "metadata": {},
   "outputs": [
    {
     "data": {
      "text/plain": [
       "0"
      ]
     },
     "execution_count": 19,
     "metadata": {},
     "output_type": "execute_result"
    }
   ],
   "source": [
    "False + False"
   ]
  },
  {
   "cell_type": "code",
   "execution_count": 20,
   "id": "1f77104b",
   "metadata": {},
   "outputs": [
    {
     "data": {
      "text/plain": [
       "1"
      ]
     },
     "execution_count": 20,
     "metadata": {},
     "output_type": "execute_result"
    }
   ],
   "source": [
    "True + False"
   ]
  },
  {
   "cell_type": "code",
   "execution_count": 21,
   "id": "c32d126e",
   "metadata": {},
   "outputs": [],
   "source": [
    "# Operations"
   ]
  },
  {
   "cell_type": "code",
   "execution_count": 22,
   "id": "521fbedb",
   "metadata": {},
   "outputs": [
    {
     "data": {
      "text/plain": [
       "16"
      ]
     },
     "execution_count": 22,
     "metadata": {},
     "output_type": "execute_result"
    }
   ],
   "source": [
    "10 + 6"
   ]
  },
  {
   "cell_type": "code",
   "execution_count": 23,
   "id": "4b04b9b0",
   "metadata": {},
   "outputs": [],
   "source": [
    "Data = 'We are learninng Data Science'"
   ]
  },
  {
   "cell_type": "code",
   "execution_count": 24,
   "id": "1b07f317",
   "metadata": {},
   "outputs": [
    {
     "data": {
      "text/plain": [
       "'We are learninng Data Science'"
      ]
     },
     "execution_count": 24,
     "metadata": {},
     "output_type": "execute_result"
    }
   ],
   "source": [
    "Data"
   ]
  },
  {
   "cell_type": "code",
   "execution_count": 25,
   "id": "44daf253",
   "metadata": {},
   "outputs": [
    {
     "ename": "SyntaxError",
     "evalue": "cannot assign to literal here. Maybe you meant '==' instead of '='? (667493507.py, line 1)",
     "output_type": "error",
     "traceback": [
      "\u001b[1;36m  Cell \u001b[1;32mIn[25], line 1\u001b[1;36m\u001b[0m\n\u001b[1;33m    30 = 'Data'\u001b[0m\n\u001b[1;37m    ^\u001b[0m\n\u001b[1;31mSyntaxError\u001b[0m\u001b[1;31m:\u001b[0m cannot assign to literal here. Maybe you meant '==' instead of '='?\n"
     ]
    }
   ],
   "source": [
    "30 = 'Data'"
   ]
  },
  {
   "cell_type": "code",
   "execution_count": 43,
   "id": "fd7e9b3f",
   "metadata": {},
   "outputs": [
    {
     "name": "stdout",
     "output_type": "stream",
     "text": [
      "data\n"
     ]
    }
   ],
   "source": [
    "a = input() # Default datatype of input is string"
   ]
  },
  {
   "cell_type": "code",
   "execution_count": 44,
   "id": "30a92e80",
   "metadata": {},
   "outputs": [
    {
     "data": {
      "text/plain": [
       "'data'"
      ]
     },
     "execution_count": 44,
     "metadata": {},
     "output_type": "execute_result"
    }
   ],
   "source": [
    "a"
   ]
  },
  {
   "cell_type": "code",
   "execution_count": 35,
   "id": "c2b554f9",
   "metadata": {},
   "outputs": [
    {
     "data": {
      "text/plain": [
       "str"
      ]
     },
     "execution_count": 35,
     "metadata": {},
     "output_type": "execute_result"
    }
   ],
   "source": [
    "type(a)"
   ]
  },
  {
   "cell_type": "code",
   "execution_count": 39,
   "id": "a96aeee8",
   "metadata": {},
   "outputs": [
    {
     "name": "stdout",
     "output_type": "stream",
     "text": [
      "6\n"
     ]
    }
   ],
   "source": [
    "b = int(input())"
   ]
  },
  {
   "cell_type": "code",
   "execution_count": 40,
   "id": "1f0e7580",
   "metadata": {},
   "outputs": [
    {
     "data": {
      "text/plain": [
       "int"
      ]
     },
     "execution_count": 40,
     "metadata": {},
     "output_type": "execute_result"
    }
   ],
   "source": [
    "type(b)"
   ]
  },
  {
   "cell_type": "code",
   "execution_count": 41,
   "id": "792eff01",
   "metadata": {},
   "outputs": [
    {
     "name": "stdout",
     "output_type": "stream",
     "text": [
      "Enter your Age33\n"
     ]
    }
   ],
   "source": [
    "b = int(input('Enter your Age'))"
   ]
  },
  {
   "cell_type": "code",
   "execution_count": 42,
   "id": "d87d6cd9",
   "metadata": {},
   "outputs": [
    {
     "data": {
      "text/plain": [
       "33"
      ]
     },
     "execution_count": 42,
     "metadata": {},
     "output_type": "execute_result"
    }
   ],
   "source": [
    "b"
   ]
  },
  {
   "cell_type": "code",
   "execution_count": 46,
   "id": "e44eb6fd",
   "metadata": {},
   "outputs": [
    {
     "name": "stdout",
     "output_type": "stream",
     "text": [
      "Enter your Age33\n"
     ]
    }
   ],
   "source": [
    "c = int(input('Enter your Age'))"
   ]
  },
  {
   "cell_type": "code",
   "execution_count": 47,
   "id": "12c2d3b9",
   "metadata": {},
   "outputs": [],
   "source": [
    "d = 'Science'\n",
    "g = 'Data'\n"
   ]
  },
  {
   "cell_type": "code",
   "execution_count": 48,
   "id": "7d3dc0d7",
   "metadata": {},
   "outputs": [
    {
     "data": {
      "text/plain": [
       "'ScienceData'"
      ]
     },
     "execution_count": 48,
     "metadata": {},
     "output_type": "execute_result"
    }
   ],
   "source": [
    "d + g"
   ]
  },
  {
   "cell_type": "code",
   "execution_count": 49,
   "id": "b2d7e26b",
   "metadata": {},
   "outputs": [
    {
     "data": {
      "text/plain": [
       "'DataScience'"
      ]
     },
     "execution_count": 49,
     "metadata": {},
     "output_type": "execute_result"
    }
   ],
   "source": [
    "g + d"
   ]
  },
  {
   "cell_type": "code",
   "execution_count": 50,
   "id": "ee6b36f7",
   "metadata": {},
   "outputs": [
    {
     "data": {
      "text/plain": [
       "28"
      ]
     },
     "execution_count": 50,
     "metadata": {},
     "output_type": "execute_result"
    }
   ],
   "source": [
    "g = 20\n",
    "o = 8\n",
    "o + g"
   ]
  },
  {
   "cell_type": "code",
   "execution_count": 51,
   "id": "ac7e5a99",
   "metadata": {},
   "outputs": [],
   "source": [
    "k = 'Data'"
   ]
  },
  {
   "cell_type": "code",
   "execution_count": 52,
   "id": "70aa7408",
   "metadata": {},
   "outputs": [
    {
     "ename": "TypeError",
     "evalue": "can only concatenate str (not \"int\") to str",
     "output_type": "error",
     "traceback": [
      "\u001b[1;31m---------------------------------------------------------------------------\u001b[0m",
      "\u001b[1;31mTypeError\u001b[0m                                 Traceback (most recent call last)",
      "Cell \u001b[1;32mIn[52], line 1\u001b[0m\n\u001b[1;32m----> 1\u001b[0m k \u001b[38;5;241m+\u001b[39m g\n",
      "\u001b[1;31mTypeError\u001b[0m: can only concatenate str (not \"int\") to str"
     ]
    }
   ],
   "source": [
    "k + g"
   ]
  },
  {
   "cell_type": "code",
   "execution_count": 55,
   "id": "a9f3d901",
   "metadata": {},
   "outputs": [
    {
     "name": "stdout",
     "output_type": "stream",
     "text": [
      "Enter your NameVaibhav\n"
     ]
    },
    {
     "data": {
      "text/plain": [
       "'Vaibhav is my name'"
      ]
     },
     "execution_count": 55,
     "metadata": {},
     "output_type": "execute_result"
    }
   ],
   "source": [
    "a = input('Enter your Name')\n",
    "b = a + ' is my name'\n",
    "b"
   ]
  },
  {
   "cell_type": "code",
   "execution_count": 56,
   "id": "4b741db3",
   "metadata": {},
   "outputs": [
    {
     "name": "stdout",
     "output_type": "stream",
     "text": [
      "Enter your Age23\n",
      "My age is  23\n"
     ]
    }
   ],
   "source": [
    "x = int(input('Enter your Age'))\n",
    "print('My age is ',x)"
   ]
  },
  {
   "cell_type": "code",
   "execution_count": 60,
   "id": "66cf9660",
   "metadata": {},
   "outputs": [
    {
     "name": "stdout",
     "output_type": "stream",
     "text": [
      "Hello WorldNew year is  2024 True\n"
     ]
    }
   ],
   "source": [
    "print('Hello World' + 'New year is ', 2024, True)"
   ]
  },
  {
   "cell_type": "code",
   "execution_count": 61,
   "id": "325027f8",
   "metadata": {},
   "outputs": [
    {
     "name": "stdout",
     "output_type": "stream",
     "text": [
      "Enter Your Age23\n",
      "Enter your NameVaibhav\n",
      "Your Name Is :  Vaibhav Your Age is:  23\n"
     ]
    }
   ],
   "source": [
    "x = int(input('Enter Your Age'))\n",
    "y = input('Enter your Name')\n",
    "\n",
    "print('Your Name Is : ',y, 'Your Age is: ',x )"
   ]
  },
  {
   "cell_type": "code",
   "execution_count": 62,
   "id": "ebf4c358",
   "metadata": {},
   "outputs": [],
   "source": [
    "l = 'Your Name is xyz'"
   ]
  },
  {
   "cell_type": "code",
   "execution_count": 63,
   "id": "4d611fe9",
   "metadata": {},
   "outputs": [
    {
     "data": {
      "text/plain": [
       "'Your Name is xyz'"
      ]
     },
     "execution_count": 63,
     "metadata": {},
     "output_type": "execute_result"
    }
   ],
   "source": [
    "l"
   ]
  },
  {
   "cell_type": "code",
   "execution_count": 64,
   "id": "335790fa",
   "metadata": {},
   "outputs": [
    {
     "data": {
      "text/plain": [
       "'N'"
      ]
     },
     "execution_count": 64,
     "metadata": {},
     "output_type": "execute_result"
    }
   ],
   "source": [
    "l[5]"
   ]
  },
  {
   "cell_type": "code",
   "execution_count": 65,
   "id": "04b05d52",
   "metadata": {},
   "outputs": [
    {
     "data": {
      "text/plain": [
       "'Name'"
      ]
     },
     "execution_count": 65,
     "metadata": {},
     "output_type": "execute_result"
    }
   ],
   "source": [
    "l[5:9]"
   ]
  },
  {
   "cell_type": "code",
   "execution_count": 66,
   "id": "1c2e410d",
   "metadata": {},
   "outputs": [
    {
     "data": {
      "text/plain": [
       "'Yu aei y'"
      ]
     },
     "execution_count": 66,
     "metadata": {},
     "output_type": "execute_result"
    }
   ],
   "source": [
    "l[::2]"
   ]
  },
  {
   "cell_type": "code",
   "execution_count": 67,
   "id": "c21a2d0e",
   "metadata": {},
   "outputs": [
    {
     "data": {
      "text/plain": [
       "'zyx si emaN ruoY'"
      ]
     },
     "execution_count": 67,
     "metadata": {},
     "output_type": "execute_result"
    }
   ],
   "source": [
    "l[::-1]"
   ]
  },
  {
   "cell_type": "code",
   "execution_count": 68,
   "id": "659d8bcb",
   "metadata": {},
   "outputs": [
    {
     "data": {
      "text/plain": [
       "'Your Name is xyz'"
      ]
     },
     "execution_count": 68,
     "metadata": {},
     "output_type": "execute_result"
    }
   ],
   "source": [
    "l"
   ]
  },
  {
   "cell_type": "code",
   "execution_count": 69,
   "id": "cb417beb",
   "metadata": {},
   "outputs": [
    {
     "data": {
      "text/plain": [
       "True"
      ]
     },
     "execution_count": 69,
     "metadata": {},
     "output_type": "execute_result"
    }
   ],
   "source": [
    "'Name' in l"
   ]
  },
  {
   "cell_type": "code",
   "execution_count": 70,
   "id": "72005675",
   "metadata": {},
   "outputs": [
    {
     "data": {
      "text/plain": [
       "1"
      ]
     },
     "execution_count": 70,
     "metadata": {},
     "output_type": "execute_result"
    }
   ],
   "source": [
    "l.count('a')"
   ]
  },
  {
   "cell_type": "code",
   "execution_count": 71,
   "id": "fc996767",
   "metadata": {},
   "outputs": [],
   "source": [
    "j = 'Write down your complete name'"
   ]
  },
  {
   "cell_type": "code",
   "execution_count": 72,
   "id": "72822f70",
   "metadata": {},
   "outputs": [
    {
     "data": {
      "text/plain": [
       "1"
      ]
     },
     "execution_count": 72,
     "metadata": {},
     "output_type": "execute_result"
    }
   ],
   "source": [
    "j.count('i')"
   ]
  },
  {
   "cell_type": "code",
   "execution_count": 74,
   "id": "83a1a4cf",
   "metadata": {},
   "outputs": [
    {
     "data": {
      "text/plain": [
       "4"
      ]
     },
     "execution_count": 74,
     "metadata": {},
     "output_type": "execute_result"
    }
   ],
   "source": [
    "j.count('e')"
   ]
  },
  {
   "cell_type": "code",
   "execution_count": 75,
   "id": "4f3962d1",
   "metadata": {},
   "outputs": [
    {
     "data": {
      "text/plain": [
       "'Write down your complete name'"
      ]
     },
     "execution_count": 75,
     "metadata": {},
     "output_type": "execute_result"
    }
   ],
   "source": [
    "j"
   ]
  },
  {
   "cell_type": "code",
   "execution_count": 76,
   "id": "1cb6c46b",
   "metadata": {},
   "outputs": [
    {
     "data": {
      "text/plain": [
       "['Write', 'down', 'your', 'complete', 'name']"
      ]
     },
     "execution_count": 76,
     "metadata": {},
     "output_type": "execute_result"
    }
   ],
   "source": [
    "j.split()"
   ]
  },
  {
   "cell_type": "code",
   "execution_count": 77,
   "id": "0fc37422",
   "metadata": {},
   "outputs": [],
   "source": [
    "k = j.split()"
   ]
  },
  {
   "cell_type": "code",
   "execution_count": 78,
   "id": "e38ae684",
   "metadata": {},
   "outputs": [
    {
     "data": {
      "text/plain": [
       "['Write', 'down', 'your', 'complete', 'name']"
      ]
     },
     "execution_count": 78,
     "metadata": {},
     "output_type": "execute_result"
    }
   ],
   "source": [
    "k"
   ]
  },
  {
   "cell_type": "code",
   "execution_count": 79,
   "id": "e9fa61ef",
   "metadata": {},
   "outputs": [
    {
     "data": {
      "text/plain": [
       "'Your Name is xyz'"
      ]
     },
     "execution_count": 79,
     "metadata": {},
     "output_type": "execute_result"
    }
   ],
   "source": [
    "l"
   ]
  },
  {
   "cell_type": "code",
   "execution_count": 80,
   "id": "06ed0578",
   "metadata": {},
   "outputs": [
    {
     "data": {
      "text/plain": [
       "['Your Name ', 's xyz']"
      ]
     },
     "execution_count": 80,
     "metadata": {},
     "output_type": "execute_result"
    }
   ],
   "source": [
    "l.split('i')"
   ]
  },
  {
   "cell_type": "code",
   "execution_count": null,
   "id": "93d3bb65",
   "metadata": {},
   "outputs": [],
   "source": []
  }
 ],
 "metadata": {
  "kernelspec": {
   "display_name": "Python 3 (ipykernel)",
   "language": "python",
   "name": "python3"
  },
  "language_info": {
   "codemirror_mode": {
    "name": "ipython",
    "version": 3
   },
   "file_extension": ".py",
   "mimetype": "text/x-python",
   "name": "python",
   "nbconvert_exporter": "python",
   "pygments_lexer": "ipython3",
   "version": "3.11.5"
  }
 },
 "nbformat": 4,
 "nbformat_minor": 5
}
