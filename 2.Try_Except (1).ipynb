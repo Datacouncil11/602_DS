{
 "cells": [
  {
   "cell_type": "code",
   "execution_count": 1,
   "id": "d3442370",
   "metadata": {},
   "outputs": [
    {
     "name": "stdout",
     "output_type": "stream",
     "text": [
      "80\n"
     ]
    },
    {
     "ename": "TypeError",
     "evalue": "unsupported operand type(s) for +: 'int' and 'str'",
     "output_type": "error",
     "traceback": [
      "\u001b[1;31m---------------------------------------------------------------------------\u001b[0m",
      "\u001b[1;31mTypeError\u001b[0m                                 Traceback (most recent call last)",
      "Cell \u001b[1;32mIn[1], line 4\u001b[0m\n\u001b[0;32m      2\u001b[0m \u001b[38;5;28mprint\u001b[39m(\u001b[38;5;241m10\u001b[39m \u001b[38;5;241m*\u001b[39m a)\n\u001b[0;32m      3\u001b[0m a \u001b[38;5;241m=\u001b[39m a \u001b[38;5;241m+\u001b[39m \u001b[38;5;241m5\u001b[39m\n\u001b[1;32m----> 4\u001b[0m a \u001b[38;5;241m+\u001b[39m \u001b[38;5;124m'\u001b[39m\u001b[38;5;124mdata\u001b[39m\u001b[38;5;124m'\u001b[39m\n\u001b[0;32m      5\u001b[0m \u001b[38;5;28mprint\u001b[39m(\u001b[38;5;124m'\u001b[39m\u001b[38;5;124mYour getway started\u001b[39m\u001b[38;5;124m'\u001b[39m)\n",
      "\u001b[1;31mTypeError\u001b[0m: unsupported operand type(s) for +: 'int' and 'str'"
     ]
    }
   ],
   "source": [
    "a = 8\n",
    "print(10 * a)\n",
    "a = a + 5\n",
    "a + 'data'\n",
    "print('Your getway started')"
   ]
  },
  {
   "cell_type": "code",
   "execution_count": 3,
   "id": "ada53c9d",
   "metadata": {},
   "outputs": [
    {
     "name": "stdout",
     "output_type": "stream",
     "text": [
      "80\n",
      "Your getway started\n"
     ]
    }
   ],
   "source": [
    "try:\n",
    "    a = 8\n",
    "    print(10 * a)\n",
    "    a = a + 5\n",
    "    a + 7\n",
    "    print('Your getway started')\n",
    "    \n",
    "except:\n",
    "    print('This is error code of getway')\n",
    "    "
   ]
  },
  {
   "cell_type": "code",
   "execution_count": 9,
   "id": "db10da13",
   "metadata": {},
   "outputs": [
    {
     "name": "stdout",
     "output_type": "stream",
     "text": [
      "Enter your int number8\n",
      "My result is: 1.25\n"
     ]
    }
   ],
   "source": [
    "try:\n",
    "    x = int(input('Enter your int number'))\n",
    "    result = 10/x\n",
    "    print(\"My result is:\", result)\n",
    "    \n",
    "except ZeroDivisionError:\n",
    "    print('Cannot divide by zero value')\n",
    "    \n",
    "except ValueError:\n",
    "    print('Plese write integer data in input')"
   ]
  },
  {
   "cell_type": "code",
   "execution_count": 8,
   "id": "74f4fe61",
   "metadata": {},
   "outputs": [
    {
     "name": "stdout",
     "output_type": "stream",
     "text": [
      "Enter your int number0\n"
     ]
    },
    {
     "ename": "ZeroDivisionError",
     "evalue": "division by zero",
     "output_type": "error",
     "traceback": [
      "\u001b[1;31m---------------------------------------------------------------------------\u001b[0m",
      "\u001b[1;31mZeroDivisionError\u001b[0m                         Traceback (most recent call last)",
      "Cell \u001b[1;32mIn[8], line 2\u001b[0m\n\u001b[0;32m      1\u001b[0m x \u001b[38;5;241m=\u001b[39m \u001b[38;5;28mint\u001b[39m(\u001b[38;5;28minput\u001b[39m(\u001b[38;5;124m'\u001b[39m\u001b[38;5;124mEnter your int number\u001b[39m\u001b[38;5;124m'\u001b[39m))\n\u001b[1;32m----> 2\u001b[0m result \u001b[38;5;241m=\u001b[39m \u001b[38;5;241m10\u001b[39m\u001b[38;5;241m/\u001b[39mx\n\u001b[0;32m      3\u001b[0m \u001b[38;5;28mprint\u001b[39m(\u001b[38;5;124m\"\u001b[39m\u001b[38;5;124mMy result is:\u001b[39m\u001b[38;5;124m\"\u001b[39m, result)\n",
      "\u001b[1;31mZeroDivisionError\u001b[0m: division by zero"
     ]
    }
   ],
   "source": [
    "x = int(input('Enter your int number'))\n",
    "result = 10/x\n",
    "print(\"My result is:\", result)\n",
    "    "
   ]
  },
  {
   "cell_type": "code",
   "execution_count": 11,
   "id": "ba4de137",
   "metadata": {},
   "outputs": [
    {
     "name": "stdout",
     "output_type": "stream",
     "text": [
      "Enter your int number0\n",
      "Cannot divide by zero value\n"
     ]
    }
   ],
   "source": [
    "try:\n",
    "    x = int(input('Enter your int number'))\n",
    "    result = 10/x\n",
    "    print(\"My result is:\", result)\n",
    "    \n",
    "except ZeroDivisionError:\n",
    "    print('Cannot divide by zero value')\n",
    "    \n",
    "except ValueError:\n",
    "    print('Plese write integer data in input')\n",
    "\n",
    "else:\n",
    "    print('No exception occured')"
   ]
  },
  {
   "cell_type": "code",
   "execution_count": 15,
   "id": "3fa03fbb",
   "metadata": {},
   "outputs": [
    {
     "name": "stdout",
     "output_type": "stream",
     "text": [
      "Enter your int number0\n",
      "Cannot divide by zero value\n",
      "I  am VIP person so I will always printed\n"
     ]
    }
   ],
   "source": [
    "try:\n",
    "    x = int(input('Enter your int number'))\n",
    "    result = 10/x\n",
    "    print(\"My result is:\", result)\n",
    "    \n",
    "except ZeroDivisionError:\n",
    "    print('Cannot divide by zero value')\n",
    "    \n",
    "except ValueError:\n",
    "    print('Plese write integer data in input')\n",
    "\n",
    "else:\n",
    "    print('No exception occured')\n",
    "    \n",
    "finally:\n",
    "    print('I  am VIP person so I will always printed')"
   ]
  },
  {
   "cell_type": "code",
   "execution_count": 17,
   "id": "fce3fd31",
   "metadata": {},
   "outputs": [
    {
     "name": "stdout",
     "output_type": "stream",
     "text": [
      "File not found, Except blog is executed \n",
      "File code is completed\n"
     ]
    }
   ],
   "source": [
    "try:\n",
    "    file = open('Example_try', 'r')\n",
    "    file.write('I am writing with read mode')\n",
    "        \n",
    "except FileNotFoundError:\n",
    "    print('File not found, Except blog is executed ')\n",
    "    \n",
    "else:\n",
    "    print('Except blog is not executed')\n",
    "    \n",
    "finally:\n",
    "    print('File code is completed')"
   ]
  },
  {
   "cell_type": "code",
   "execution_count": 16,
   "id": "9abd04e2",
   "metadata": {},
   "outputs": [
    {
     "ename": "FileNotFoundError",
     "evalue": "[Errno 2] No such file or directory: 'jfnjn'",
     "output_type": "error",
     "traceback": [
      "\u001b[1;31m---------------------------------------------------------------------------\u001b[0m",
      "\u001b[1;31mFileNotFoundError\u001b[0m                         Traceback (most recent call last)",
      "Cell \u001b[1;32mIn[16], line 1\u001b[0m\n\u001b[1;32m----> 1\u001b[0m f\u001b[38;5;241m=\u001b[39m \u001b[38;5;28mopen\u001b[39m(\u001b[38;5;124m'\u001b[39m\u001b[38;5;124mjfnjn\u001b[39m\u001b[38;5;124m'\u001b[39m,\u001b[38;5;124m'\u001b[39m\u001b[38;5;124mr\u001b[39m\u001b[38;5;124m'\u001b[39m)\n",
      "File \u001b[1;32m~\\anaconda3\\Lib\\site-packages\\IPython\\core\\interactiveshell.py:286\u001b[0m, in \u001b[0;36m_modified_open\u001b[1;34m(file, *args, **kwargs)\u001b[0m\n\u001b[0;32m    279\u001b[0m \u001b[38;5;28;01mif\u001b[39;00m file \u001b[38;5;129;01min\u001b[39;00m {\u001b[38;5;241m0\u001b[39m, \u001b[38;5;241m1\u001b[39m, \u001b[38;5;241m2\u001b[39m}:\n\u001b[0;32m    280\u001b[0m     \u001b[38;5;28;01mraise\u001b[39;00m \u001b[38;5;167;01mValueError\u001b[39;00m(\n\u001b[0;32m    281\u001b[0m         \u001b[38;5;124mf\u001b[39m\u001b[38;5;124m\"\u001b[39m\u001b[38;5;124mIPython won\u001b[39m\u001b[38;5;124m'\u001b[39m\u001b[38;5;124mt let you open fd=\u001b[39m\u001b[38;5;132;01m{\u001b[39;00mfile\u001b[38;5;132;01m}\u001b[39;00m\u001b[38;5;124m by default \u001b[39m\u001b[38;5;124m\"\u001b[39m\n\u001b[0;32m    282\u001b[0m         \u001b[38;5;124m\"\u001b[39m\u001b[38;5;124mas it is likely to crash IPython. If you know what you are doing, \u001b[39m\u001b[38;5;124m\"\u001b[39m\n\u001b[0;32m    283\u001b[0m         \u001b[38;5;124m\"\u001b[39m\u001b[38;5;124myou can use builtins\u001b[39m\u001b[38;5;124m'\u001b[39m\u001b[38;5;124m open.\u001b[39m\u001b[38;5;124m\"\u001b[39m\n\u001b[0;32m    284\u001b[0m     )\n\u001b[1;32m--> 286\u001b[0m \u001b[38;5;28;01mreturn\u001b[39;00m io_open(file, \u001b[38;5;241m*\u001b[39margs, \u001b[38;5;241m*\u001b[39m\u001b[38;5;241m*\u001b[39mkwargs)\n",
      "\u001b[1;31mFileNotFoundError\u001b[0m: [Errno 2] No such file or directory: 'jfnjn'"
     ]
    }
   ],
   "source": [
    "f= open('jfnjn','r')"
   ]
  },
  {
   "cell_type": "code",
   "execution_count": null,
   "id": "6aee3ff4",
   "metadata": {},
   "outputs": [],
   "source": []
  }
 ],
 "metadata": {
  "kernelspec": {
   "display_name": "Python 3 (ipykernel)",
   "language": "python",
   "name": "python3"
  },
  "language_info": {
   "codemirror_mode": {
    "name": "ipython",
    "version": 3
   },
   "file_extension": ".py",
   "mimetype": "text/x-python",
   "name": "python",
   "nbconvert_exporter": "python",
   "pygments_lexer": "ipython3",
   "version": "3.11.5"
  }
 },
 "nbformat": 4,
 "nbformat_minor": 5
}
