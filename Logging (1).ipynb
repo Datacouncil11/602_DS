{
 "cells": [
  {
   "cell_type": "code",
   "execution_count": 26,
   "id": "76024327",
   "metadata": {},
   "outputs": [],
   "source": [
    "import logging"
   ]
  },
  {
   "cell_type": "code",
   "execution_count": 3,
   "id": "db5ec805",
   "metadata": {},
   "outputs": [],
   "source": [
    "logging.basicConfig(filename ='logfile1.log',level = logging.info)"
   ]
  },
  {
   "cell_type": "code",
   "execution_count": 24,
   "id": "ff65076f",
   "metadata": {},
   "outputs": [],
   "source": [
    "logging.info('This is my info log')\n",
    "logging.warning('This is my warning log')\n",
    "logging.error('This is my error log')\n",
    "logging.debug('This is my debug log')"
   ]
  },
  {
   "cell_type": "code",
   "execution_count": 14,
   "id": "9f646dfc",
   "metadata": {},
   "outputs": [],
   "source": [
    "logging.shutdown()"
   ]
  },
  {
   "cell_type": "code",
   "execution_count": 15,
   "id": "c3acc04a",
   "metadata": {},
   "outputs": [
    {
     "data": {
      "text/plain": [
       "'C:\\\\Users\\\\Admin\\\\Downloads\\\\602\\\\Advanced Python'"
      ]
     },
     "execution_count": 15,
     "metadata": {},
     "output_type": "execute_result"
    }
   ],
   "source": [
    "pwd()"
   ]
  },
  {
   "cell_type": "code",
   "execution_count": 27,
   "id": "ba1b8d4d",
   "metadata": {},
   "outputs": [],
   "source": [
    "logging.basicConfig(filename = 'functionlogs.log',level = logging.debug, format = \"%(asctime)s %(levelname)s %(message)s\" )"
   ]
  },
  {
   "cell_type": "code",
   "execution_count": 28,
   "id": "44eb5be3",
   "metadata": {},
   "outputs": [],
   "source": [
    "def divzero(a,b):\n",
    "    logging.info('This is my code and i am trying to enter divzero function')\n",
    "    try:\n",
    "        div = a/b\n",
    "        logging.info('Excuted succ')\n",
    "    except Exception as e:\n",
    "        logging.error('Error has ccured')\n",
    "        logging.exception('Exception is occured' + str(e))"
   ]
  },
  {
   "cell_type": "code",
   "execution_count": 29,
   "id": "4d4a2bc3",
   "metadata": {},
   "outputs": [],
   "source": [
    "divzero(10,0)"
   ]
  },
  {
   "cell_type": "code",
   "execution_count": 31,
   "id": "b1037268",
   "metadata": {},
   "outputs": [],
   "source": [
    "logging.shutdown()"
   ]
  },
  {
   "cell_type": "code",
   "execution_count": 1,
   "id": "150d44f7",
   "metadata": {},
   "outputs": [],
   "source": [
    "import logging"
   ]
  },
  {
   "cell_type": "code",
   "execution_count": 2,
   "id": "63bdb965",
   "metadata": {},
   "outputs": [],
   "source": [
    "logging.basicConfig(filename = 'logtest2.log', level = logging.ERROR, format = \" %(asctime)s %(levelname)s %(message)s\")"
   ]
  },
  {
   "cell_type": "code",
   "execution_count": 3,
   "id": "0e3bfa84",
   "metadata": {},
   "outputs": [],
   "source": [
    "logging.info('This is my info log')\n",
    "logging.warning('This is my warning log')\n",
    "logging.error('This is my error log')\n",
    "logging.debug('This is my debug log')"
   ]
  },
  {
   "cell_type": "code",
   "execution_count": 4,
   "id": "fbda759e",
   "metadata": {},
   "outputs": [],
   "source": [
    "def divzero(a,b):\n",
    "    logging.info('This is my code and i am trying to enter divzero function')\n",
    "    try:\n",
    "        div = a/b\n",
    "        logging.info('Excuted succ')\n",
    "    except Exception as e:\n",
    "        logging.error('Error has ccured')\n",
    "        logging.exception('Exception is occured' + str(e))"
   ]
  },
  {
   "cell_type": "code",
   "execution_count": 5,
   "id": "3d9c0df8",
   "metadata": {},
   "outputs": [],
   "source": [
    "divzero(0,0)"
   ]
  },
  {
   "cell_type": "code",
   "execution_count": 6,
   "id": "309695f0",
   "metadata": {},
   "outputs": [],
   "source": [
    "divzero(10,2)"
   ]
  },
  {
   "cell_type": "code",
   "execution_count": 7,
   "id": "5c82b1d1",
   "metadata": {},
   "outputs": [],
   "source": [
    "divzero(2,0)"
   ]
  }
 ],
 "metadata": {
  "kernelspec": {
   "display_name": "Python 3 (ipykernel)",
   "language": "python",
   "name": "python3"
  },
  "language_info": {
   "codemirror_mode": {
    "name": "ipython",
    "version": 3
   },
   "file_extension": ".py",
   "mimetype": "text/x-python",
   "name": "python",
   "nbconvert_exporter": "python",
   "pygments_lexer": "ipython3",
   "version": "3.11.5"
  }
 },
 "nbformat": 4,
 "nbformat_minor": 5
}
