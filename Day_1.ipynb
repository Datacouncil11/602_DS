{
 "cells": [
  {
   "cell_type": "markdown",
   "id": "41906e3a",
   "metadata": {},
   "source": [
    "# Data Types in Python"
   ]
  },
  {
   "cell_type": "markdown",
   "id": "21bf2400",
   "metadata": {},
   "source": [
    "We are going to learn python"
   ]
  },
  {
   "cell_type": "markdown",
   "id": "1d715944",
   "metadata": {},
   "source": [
    "# Numeric Data Types"
   ]
  },
  {
   "cell_type": "markdown",
   "id": "577fd94e",
   "metadata": {},
   "source": [
    "Integer Eg: 5\n",
    "\n",
    "Complete Number"
   ]
  },
  {
   "cell_type": "code",
   "execution_count": 13,
   "id": "7145e965",
   "metadata": {},
   "outputs": [
    {
     "data": {
      "text/plain": [
       "5"
      ]
     },
     "execution_count": 13,
     "metadata": {},
     "output_type": "execute_result"
    }
   ],
   "source": [
    "5"
   ]
  },
  {
   "cell_type": "code",
   "execution_count": 14,
   "id": "8aeccda0",
   "metadata": {},
   "outputs": [
    {
     "data": {
      "text/plain": [
       "100"
      ]
     },
     "execution_count": 14,
     "metadata": {},
     "output_type": "execute_result"
    }
   ],
   "source": [
    "100"
   ]
  },
  {
   "cell_type": "code",
   "execution_count": 7,
   "id": "3a47b589",
   "metadata": {},
   "outputs": [
    {
     "data": {
      "text/plain": [
       "2.0"
      ]
     },
     "execution_count": 7,
     "metadata": {},
     "output_type": "execute_result"
    }
   ],
   "source": [
    "10/5"
   ]
  },
  {
   "cell_type": "markdown",
   "id": "18607465",
   "metadata": {},
   "source": [
    "Float\n",
    "\n",
    "Number in  decimals"
   ]
  },
  {
   "cell_type": "code",
   "execution_count": 8,
   "id": "b78941f3",
   "metadata": {},
   "outputs": [
    {
     "data": {
      "text/plain": [
       "1.5"
      ]
     },
     "execution_count": 8,
     "metadata": {},
     "output_type": "execute_result"
    }
   ],
   "source": [
    "1.5 "
   ]
  },
  {
   "cell_type": "code",
   "execution_count": 9,
   "id": "20cce640",
   "metadata": {},
   "outputs": [
    {
     "data": {
      "text/plain": [
       "3.3333333333333335"
      ]
     },
     "execution_count": 9,
     "metadata": {},
     "output_type": "execute_result"
    }
   ],
   "source": [
    "10/3"
   ]
  },
  {
   "cell_type": "code",
   "execution_count": 10,
   "id": "7ea6ed8e",
   "metadata": {},
   "outputs": [
    {
     "data": {
      "text/plain": [
       "16.5"
      ]
     },
     "execution_count": 10,
     "metadata": {},
     "output_type": "execute_result"
    }
   ],
   "source": [
    "10.5 + 6"
   ]
  },
  {
   "cell_type": "markdown",
   "id": "3d0619be",
   "metadata": {},
   "source": [
    "Complex\n",
    "\n",
    "vectors"
   ]
  },
  {
   "cell_type": "code",
   "execution_count": 11,
   "id": "566f10d5",
   "metadata": {},
   "outputs": [
    {
     "data": {
      "text/plain": [
       "(5+8j)"
      ]
     },
     "execution_count": 11,
     "metadata": {},
     "output_type": "execute_result"
    }
   ],
   "source": [
    "5 + 8j"
   ]
  },
  {
   "cell_type": "code",
   "execution_count": 12,
   "id": "6901a21e",
   "metadata": {},
   "outputs": [
    {
     "data": {
      "text/plain": [
       "(15+3j)"
      ]
     },
     "execution_count": 12,
     "metadata": {},
     "output_type": "execute_result"
    }
   ],
   "source": [
    "15 + 3j"
   ]
  },
  {
   "cell_type": "markdown",
   "id": "c6db717f",
   "metadata": {},
   "source": [
    "# String"
   ]
  },
  {
   "cell_type": "markdown",
   "id": "27ba385e",
   "metadata": {},
   "source": [
    "Rule: Every stringg must be in '', \"\""
   ]
  },
  {
   "cell_type": "code",
   "execution_count": 16,
   "id": "b943f913",
   "metadata": {},
   "outputs": [
    {
     "data": {
      "text/plain": [
       "'a'"
      ]
     },
     "execution_count": 16,
     "metadata": {},
     "output_type": "execute_result"
    }
   ],
   "source": [
    "'a'"
   ]
  },
  {
   "cell_type": "code",
   "execution_count": 17,
   "id": "12b4ffa5",
   "metadata": {},
   "outputs": [
    {
     "data": {
      "text/plain": [
       "'Data'"
      ]
     },
     "execution_count": 17,
     "metadata": {},
     "output_type": "execute_result"
    }
   ],
   "source": [
    "'Data'"
   ]
  },
  {
   "cell_type": "code",
   "execution_count": 18,
   "id": "bd276e51",
   "metadata": {},
   "outputs": [
    {
     "data": {
      "text/plain": [
       "'DATA'"
      ]
     },
     "execution_count": 18,
     "metadata": {},
     "output_type": "execute_result"
    }
   ],
   "source": [
    "\"DATA\""
   ]
  },
  {
   "cell_type": "code",
   "execution_count": 19,
   "id": "25418d80",
   "metadata": {},
   "outputs": [
    {
     "data": {
      "text/plain": [
       "'\\na\\nb\\n'"
      ]
     },
     "execution_count": 19,
     "metadata": {},
     "output_type": "execute_result"
    }
   ],
   "source": [
    "'''\n",
    "a\n",
    "b\n",
    "'''"
   ]
  },
  {
   "cell_type": "markdown",
   "id": "17e6dd4b",
   "metadata": {},
   "source": [
    "# Boolean"
   ]
  },
  {
   "cell_type": "code",
   "execution_count": 20,
   "id": "eac8d914",
   "metadata": {},
   "outputs": [
    {
     "data": {
      "text/plain": [
       "True"
      ]
     },
     "execution_count": 20,
     "metadata": {},
     "output_type": "execute_result"
    }
   ],
   "source": [
    "True"
   ]
  },
  {
   "cell_type": "code",
   "execution_count": 21,
   "id": "cd7e6946",
   "metadata": {},
   "outputs": [
    {
     "data": {
      "text/plain": [
       "False"
      ]
     },
     "execution_count": 21,
     "metadata": {},
     "output_type": "execute_result"
    }
   ],
   "source": [
    "False"
   ]
  },
  {
   "cell_type": "code",
   "execution_count": 22,
   "id": "486b3d29",
   "metadata": {},
   "outputs": [
    {
     "data": {
      "text/plain": [
       "True"
      ]
     },
     "execution_count": 22,
     "metadata": {},
     "output_type": "execute_result"
    }
   ],
   "source": [
    "5 < 10"
   ]
  },
  {
   "cell_type": "code",
   "execution_count": 23,
   "id": "eb7400ae",
   "metadata": {},
   "outputs": [
    {
     "data": {
      "text/plain": [
       "False"
      ]
     },
     "execution_count": 23,
     "metadata": {},
     "output_type": "execute_result"
    }
   ],
   "source": [
    "5 > 10"
   ]
  },
  {
   "cell_type": "code",
   "execution_count": 24,
   "id": "a3aada1d",
   "metadata": {},
   "outputs": [
    {
     "data": {
      "text/plain": [
       "2"
      ]
     },
     "execution_count": 24,
     "metadata": {},
     "output_type": "execute_result"
    }
   ],
   "source": [
    "True + True"
   ]
  },
  {
   "cell_type": "code",
   "execution_count": 26,
   "id": "5187396d",
   "metadata": {},
   "outputs": [
    {
     "data": {
      "text/plain": [
       "1"
      ]
     },
     "execution_count": 26,
     "metadata": {},
     "output_type": "execute_result"
    }
   ],
   "source": [
    "True -  False # 1-0 = 1"
   ]
  },
  {
   "cell_type": "code",
   "execution_count": 27,
   "id": "25cd63af",
   "metadata": {},
   "outputs": [
    {
     "data": {
      "text/plain": [
       "0"
      ]
     },
     "execution_count": 27,
     "metadata": {},
     "output_type": "execute_result"
    }
   ],
   "source": [
    "False - False"
   ]
  },
  {
   "cell_type": "code",
   "execution_count": null,
   "id": "c1a31986",
   "metadata": {},
   "outputs": [],
   "source": []
  }
 ],
 "metadata": {
  "kernelspec": {
   "display_name": "Python 3 (ipykernel)",
   "language": "python",
   "name": "python3"
  },
  "language_info": {
   "codemirror_mode": {
    "name": "ipython",
    "version": 3
   },
   "file_extension": ".py",
   "mimetype": "text/x-python",
   "name": "python",
   "nbconvert_exporter": "python",
   "pygments_lexer": "ipython3",
   "version": "3.11.5"
  }
 },
 "nbformat": 4,
 "nbformat_minor": 5
}
