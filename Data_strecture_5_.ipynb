{
 "cells": [
  {
   "cell_type": "code",
   "execution_count": 1,
   "id": "c54d8ce4",
   "metadata": {},
   "outputs": [],
   "source": [
    "# Set"
   ]
  },
  {
   "cell_type": "code",
   "execution_count": 2,
   "id": "42965a59",
   "metadata": {},
   "outputs": [],
   "source": [
    "a = (1,1,2,2,2,2,4,5,6)"
   ]
  },
  {
   "cell_type": "code",
   "execution_count": 3,
   "id": "1198a82e",
   "metadata": {},
   "outputs": [
    {
     "data": {
      "text/plain": [
       "tuple"
      ]
     },
     "execution_count": 3,
     "metadata": {},
     "output_type": "execute_result"
    }
   ],
   "source": [
    "type(a)"
   ]
  },
  {
   "cell_type": "code",
   "execution_count": 4,
   "id": "30b40736",
   "metadata": {},
   "outputs": [],
   "source": [
    "b = [10,11,11,12,13]"
   ]
  },
  {
   "cell_type": "code",
   "execution_count": 5,
   "id": "85f4c04e",
   "metadata": {},
   "outputs": [
    {
     "data": {
      "text/plain": [
       "{1, 2, 4, 5, 6}"
      ]
     },
     "execution_count": 5,
     "metadata": {},
     "output_type": "execute_result"
    }
   ],
   "source": [
    "set(a)"
   ]
  },
  {
   "cell_type": "code",
   "execution_count": 6,
   "id": "3ebf4a0d",
   "metadata": {},
   "outputs": [],
   "source": [
    "# Union "
   ]
  },
  {
   "cell_type": "code",
   "execution_count": 7,
   "id": "2b7c1df1",
   "metadata": {},
   "outputs": [],
   "source": [
    "data_1 = {1,2,3,4,5,6}"
   ]
  },
  {
   "cell_type": "code",
   "execution_count": 8,
   "id": "7a0305f2",
   "metadata": {},
   "outputs": [],
   "source": [
    "data_2 = {4,5,6,7,8,9}"
   ]
  },
  {
   "cell_type": "code",
   "execution_count": 10,
   "id": "9873f15a",
   "metadata": {},
   "outputs": [
    {
     "data": {
      "text/plain": [
       "{1, 2, 3, 4, 5, 6, 7, 8, 9}"
      ]
     },
     "execution_count": 10,
     "metadata": {},
     "output_type": "execute_result"
    }
   ],
   "source": [
    "data_2.union(data_1) #  Union"
   ]
  },
  {
   "cell_type": "code",
   "execution_count": 11,
   "id": "9850715c",
   "metadata": {},
   "outputs": [
    {
     "data": {
      "text/plain": [
       "{1, 2, 3}"
      ]
     },
     "execution_count": 11,
     "metadata": {},
     "output_type": "execute_result"
    }
   ],
   "source": [
    "data_1.difference(data_2)"
   ]
  },
  {
   "cell_type": "code",
   "execution_count": 12,
   "id": "d6579727",
   "metadata": {},
   "outputs": [
    {
     "data": {
      "text/plain": [
       "{7, 8, 9}"
      ]
     },
     "execution_count": 12,
     "metadata": {},
     "output_type": "execute_result"
    }
   ],
   "source": [
    "data_2.difference(data_1) # Difference"
   ]
  },
  {
   "cell_type": "code",
   "execution_count": 14,
   "id": "b053e02f",
   "metadata": {},
   "outputs": [
    {
     "data": {
      "text/plain": [
       "set"
      ]
     },
     "execution_count": 14,
     "metadata": {},
     "output_type": "execute_result"
    }
   ],
   "source": [
    "type(data_1)"
   ]
  },
  {
   "cell_type": "code",
   "execution_count": 15,
   "id": "76fc9e21",
   "metadata": {},
   "outputs": [],
   "source": [
    "#Update"
   ]
  },
  {
   "cell_type": "code",
   "execution_count": 16,
   "id": "758c9ceb",
   "metadata": {},
   "outputs": [],
   "source": [
    "data_1.update('Science')"
   ]
  },
  {
   "cell_type": "code",
   "execution_count": 17,
   "id": "b1cef02c",
   "metadata": {},
   "outputs": [
    {
     "data": {
      "text/plain": [
       "{1, 2, 3, 4, 5, 6, 'S', 'c', 'e', 'i', 'n'}"
      ]
     },
     "execution_count": 17,
     "metadata": {},
     "output_type": "execute_result"
    }
   ],
   "source": [
    "data_1"
   ]
  },
  {
   "cell_type": "code",
   "execution_count": 19,
   "id": "75cebea7",
   "metadata": {},
   "outputs": [],
   "source": [
    "data_1.update({18})"
   ]
  },
  {
   "cell_type": "code",
   "execution_count": 20,
   "id": "8be55428",
   "metadata": {},
   "outputs": [
    {
     "data": {
      "text/plain": [
       "{1, 18, 2, 3, 4, 5, 6, 'S', 'c', 'e', 'i', 'n'}"
      ]
     },
     "execution_count": 20,
     "metadata": {},
     "output_type": "execute_result"
    }
   ],
   "source": [
    "data_1"
   ]
  },
  {
   "cell_type": "code",
   "execution_count": 21,
   "id": "710dec13",
   "metadata": {},
   "outputs": [],
   "source": [
    "data_1.update({'Science', 'Analysis'})"
   ]
  },
  {
   "cell_type": "code",
   "execution_count": 22,
   "id": "cdace3f6",
   "metadata": {},
   "outputs": [
    {
     "data": {
      "text/plain": [
       "{1, 18, 2, 3, 4, 5, 6, 'Analysis', 'S', 'Science', 'c', 'e', 'i', 'n'}"
      ]
     },
     "execution_count": 22,
     "metadata": {},
     "output_type": "execute_result"
    }
   ],
   "source": [
    "data_1"
   ]
  },
  {
   "cell_type": "code",
   "execution_count": 23,
   "id": "2b493ea0",
   "metadata": {},
   "outputs": [],
   "source": [
    "# Discard"
   ]
  },
  {
   "cell_type": "code",
   "execution_count": 26,
   "id": "fbe1c5bd",
   "metadata": {},
   "outputs": [],
   "source": [
    "data_1.discard('Science')"
   ]
  },
  {
   "cell_type": "code",
   "execution_count": 27,
   "id": "1510327d",
   "metadata": {},
   "outputs": [
    {
     "data": {
      "text/plain": [
       "{1, 18, 2, 3, 4, 5, 6, 'Analysis', 'S', 'c', 'e', 'i', 'n'}"
      ]
     },
     "execution_count": 27,
     "metadata": {},
     "output_type": "execute_result"
    }
   ],
   "source": [
    "data_1"
   ]
  },
  {
   "cell_type": "code",
   "execution_count": 28,
   "id": "636f033e",
   "metadata": {},
   "outputs": [],
   "source": [
    "data_1.update('Analysis')"
   ]
  },
  {
   "cell_type": "code",
   "execution_count": 29,
   "id": "b3fcab84",
   "metadata": {},
   "outputs": [
    {
     "data": {
      "text/plain": [
       "{1,\n",
       " 18,\n",
       " 2,\n",
       " 3,\n",
       " 4,\n",
       " 5,\n",
       " 6,\n",
       " 'A',\n",
       " 'Analysis',\n",
       " 'S',\n",
       " 'a',\n",
       " 'c',\n",
       " 'e',\n",
       " 'i',\n",
       " 'l',\n",
       " 'n',\n",
       " 's',\n",
       " 'y'}"
      ]
     },
     "execution_count": 29,
     "metadata": {},
     "output_type": "execute_result"
    }
   ],
   "source": [
    "data_1"
   ]
  },
  {
   "cell_type": "code",
   "execution_count": 30,
   "id": "ef9ba8ee",
   "metadata": {},
   "outputs": [],
   "source": [
    "data_1.discard('Analysis')"
   ]
  },
  {
   "cell_type": "code",
   "execution_count": 31,
   "id": "13fd9ccc",
   "metadata": {},
   "outputs": [
    {
     "data": {
      "text/plain": [
       "{1, 18, 2, 3, 4, 5, 6, 'A', 'S', 'a', 'c', 'e', 'i', 'l', 'n', 's', 'y'}"
      ]
     },
     "execution_count": 31,
     "metadata": {},
     "output_type": "execute_result"
    }
   ],
   "source": [
    "data_1"
   ]
  },
  {
   "cell_type": "code",
   "execution_count": 32,
   "id": "2ea34345",
   "metadata": {},
   "outputs": [],
   "source": [
    "#Clear"
   ]
  },
  {
   "cell_type": "code",
   "execution_count": 33,
   "id": "e28ced47",
   "metadata": {},
   "outputs": [],
   "source": [
    "data_1.clear()"
   ]
  },
  {
   "cell_type": "code",
   "execution_count": 34,
   "id": "5573bc71",
   "metadata": {},
   "outputs": [
    {
     "data": {
      "text/plain": [
       "set()"
      ]
     },
     "execution_count": 34,
     "metadata": {},
     "output_type": "execute_result"
    }
   ],
   "source": [
    "data_1"
   ]
  },
  {
   "cell_type": "markdown",
   "id": "be087dcb",
   "metadata": {},
   "source": [
    "# Dictonary"
   ]
  },
  {
   "cell_type": "code",
   "execution_count": 35,
   "id": "37f77f21",
   "metadata": {},
   "outputs": [],
   "source": [
    "# It is inbuild data type in python\n",
    "# Dict stores values in key-value pair mode"
   ]
  },
  {
   "cell_type": "code",
   "execution_count": 36,
   "id": "e1e54702",
   "metadata": {},
   "outputs": [],
   "source": [
    "name_surname = {'Rahul':'Mishra', 'Rohit':'Sharma'}"
   ]
  },
  {
   "cell_type": "code",
   "execution_count": 37,
   "id": "ece5821f",
   "metadata": {},
   "outputs": [
    {
     "data": {
      "text/plain": [
       "{'Rahul': 'Mishra', 'Rohit': 'Sharma'}"
      ]
     },
     "execution_count": 37,
     "metadata": {},
     "output_type": "execute_result"
    }
   ],
   "source": [
    "name_surname"
   ]
  },
  {
   "cell_type": "code",
   "execution_count": 38,
   "id": "0a4e4efe",
   "metadata": {},
   "outputs": [],
   "source": [
    "student_dict = {'Name':'Sham', 'Age':30, 'Height':5.9, 'City':'Pune'}"
   ]
  },
  {
   "cell_type": "code",
   "execution_count": 39,
   "id": "cedc0deb",
   "metadata": {},
   "outputs": [
    {
     "data": {
      "text/plain": [
       "{'Name': 'Sham', 'Age': 30, 'Height': 5.9, 'City': 'Pune'}"
      ]
     },
     "execution_count": 39,
     "metadata": {},
     "output_type": "execute_result"
    }
   ],
   "source": [
    "student_dict"
   ]
  },
  {
   "cell_type": "code",
   "execution_count": 40,
   "id": "0338029f",
   "metadata": {},
   "outputs": [
    {
     "data": {
      "text/plain": [
       "5.9"
      ]
     },
     "execution_count": 40,
     "metadata": {},
     "output_type": "execute_result"
    }
   ],
   "source": [
    "student_dict['Height']"
   ]
  },
  {
   "cell_type": "code",
   "execution_count": 41,
   "id": "77757994",
   "metadata": {},
   "outputs": [
    {
     "data": {
      "text/plain": [
       "'Sham'"
      ]
     },
     "execution_count": 41,
     "metadata": {},
     "output_type": "execute_result"
    }
   ],
   "source": [
    "student_dict['Name']"
   ]
  },
  {
   "cell_type": "code",
   "execution_count": 42,
   "id": "063bb523",
   "metadata": {},
   "outputs": [],
   "source": [
    "movies = {'Sholey':1977, 'Happy New Year':2015, 'Chennai express':2013}"
   ]
  },
  {
   "cell_type": "code",
   "execution_count": 43,
   "id": "84508e51",
   "metadata": {},
   "outputs": [
    {
     "data": {
      "text/plain": [
       "dict_keys(['Sholey', 'Happy New Year', 'Chennai express'])"
      ]
     },
     "execution_count": 43,
     "metadata": {},
     "output_type": "execute_result"
    }
   ],
   "source": [
    "movies.keys()"
   ]
  },
  {
   "cell_type": "code",
   "execution_count": 44,
   "id": "bea58895",
   "metadata": {},
   "outputs": [
    {
     "data": {
      "text/plain": [
       "dict_values([1977, 2015, 2013])"
      ]
     },
     "execution_count": 44,
     "metadata": {},
     "output_type": "execute_result"
    }
   ],
   "source": [
    "movies.values()"
   ]
  },
  {
   "cell_type": "code",
   "execution_count": 45,
   "id": "31398708",
   "metadata": {},
   "outputs": [],
   "source": [
    "keys = ['name', 'age', 'grade']"
   ]
  },
  {
   "cell_type": "code",
   "execution_count": 46,
   "id": "8c4e3009",
   "metadata": {},
   "outputs": [],
   "source": [
    "values = ['John', 29, 'b+']"
   ]
  },
  {
   "cell_type": "code",
   "execution_count": 47,
   "id": "39f597c2",
   "metadata": {},
   "outputs": [
    {
     "data": {
      "text/plain": [
       "{'name': 'John', 'age': 29, 'grade': 'b+'}"
      ]
     },
     "execution_count": 47,
     "metadata": {},
     "output_type": "execute_result"
    }
   ],
   "source": [
    "dict(zip(keys,values))"
   ]
  },
  {
   "cell_type": "code",
   "execution_count": 48,
   "id": "3f78cde5",
   "metadata": {},
   "outputs": [],
   "source": [
    "f = dict(zip(keys,values))"
   ]
  },
  {
   "cell_type": "code",
   "execution_count": 49,
   "id": "29fc983b",
   "metadata": {},
   "outputs": [
    {
     "data": {
      "text/plain": [
       "{'name': 'John', 'age': 29, 'grade': 'b+'}"
      ]
     },
     "execution_count": 49,
     "metadata": {},
     "output_type": "execute_result"
    }
   ],
   "source": [
    "f"
   ]
  },
  {
   "cell_type": "code",
   "execution_count": 50,
   "id": "ffe4ae4f",
   "metadata": {},
   "outputs": [
    {
     "data": {
      "text/plain": [
       "'b+'"
      ]
     },
     "execution_count": 50,
     "metadata": {},
     "output_type": "execute_result"
    }
   ],
   "source": [
    "f['grade']"
   ]
  },
  {
   "cell_type": "code",
   "execution_count": 51,
   "id": "95730d06",
   "metadata": {},
   "outputs": [],
   "source": [
    "f['grade'] = 'a+'"
   ]
  },
  {
   "cell_type": "code",
   "execution_count": 52,
   "id": "3ba881ef",
   "metadata": {},
   "outputs": [
    {
     "data": {
      "text/plain": [
       "{'name': 'John', 'age': 29, 'grade': 'a+'}"
      ]
     },
     "execution_count": 52,
     "metadata": {},
     "output_type": "execute_result"
    }
   ],
   "source": [
    "f"
   ]
  },
  {
   "cell_type": "code",
   "execution_count": 53,
   "id": "8c1991f4",
   "metadata": {},
   "outputs": [],
   "source": [
    "f['name'] = 'Rock'"
   ]
  },
  {
   "cell_type": "code",
   "execution_count": 54,
   "id": "da3375fb",
   "metadata": {},
   "outputs": [
    {
     "data": {
      "text/plain": [
       "{'name': 'Rock', 'age': 29, 'grade': 'a+'}"
      ]
     },
     "execution_count": 54,
     "metadata": {},
     "output_type": "execute_result"
    }
   ],
   "source": [
    "f"
   ]
  },
  {
   "cell_type": "code",
   "execution_count": 55,
   "id": "a980f4df",
   "metadata": {},
   "outputs": [],
   "source": [
    "f['Height'] = 6"
   ]
  },
  {
   "cell_type": "code",
   "execution_count": 56,
   "id": "e3670af0",
   "metadata": {},
   "outputs": [
    {
     "data": {
      "text/plain": [
       "{'name': 'Rock', 'age': 29, 'grade': 'a+', 'Height': 6}"
      ]
     },
     "execution_count": 56,
     "metadata": {},
     "output_type": "execute_result"
    }
   ],
   "source": [
    "f"
   ]
  },
  {
   "cell_type": "code",
   "execution_count": null,
   "id": "d5c61850",
   "metadata": {},
   "outputs": [],
   "source": []
  }
 ],
 "metadata": {
  "kernelspec": {
   "display_name": "Python 3 (ipykernel)",
   "language": "python",
   "name": "python3"
  },
  "language_info": {
   "codemirror_mode": {
    "name": "ipython",
    "version": 3
   },
   "file_extension": ".py",
   "mimetype": "text/x-python",
   "name": "python",
   "nbconvert_exporter": "python",
   "pygments_lexer": "ipython3",
   "version": "3.11.5"
  }
 },
 "nbformat": 4,
 "nbformat_minor": 5
}
